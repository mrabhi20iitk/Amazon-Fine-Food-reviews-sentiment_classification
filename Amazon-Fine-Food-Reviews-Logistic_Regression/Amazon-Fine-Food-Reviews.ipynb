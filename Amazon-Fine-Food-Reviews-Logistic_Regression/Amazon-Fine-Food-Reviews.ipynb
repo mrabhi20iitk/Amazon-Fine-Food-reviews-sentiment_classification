{
 "cells": [
  {
   "cell_type": "markdown",
   "metadata": {},
   "source": [
    "Importing Libraries and dataset"
   ]
  },
  {
   "cell_type": "code",
   "execution_count": 1,
   "metadata": {},
   "outputs": [],
   "source": [
    "import pandas as pd \n",
    "import numpy as np \n",
    "import sqlite3 as sq\n",
    "from bs4 import BeautifulSoup"
   ]
  },
  {
   "cell_type": "code",
   "execution_count": 2,
   "metadata": {},
   "outputs": [
    {
     "name": "stdout",
     "output_type": "stream",
     "text": [
      "   Id   ProductId          UserId                      ProfileName   \n",
      "0   1  B001E4KFG0  A3SGXH7AUHU8GW                       delmartian  \\\n",
      "1   2  B00813GRG4  A1D87F6ZCVE5NK                           dll pa   \n",
      "2   3  B000LQOCH0   ABXLMWJIXXAIN  Natalia Corres \"Natalia Corres\"   \n",
      "3   4  B000UA0QIQ  A395BORC6FGVXV                             Karl   \n",
      "4   5  B006K2ZZ7K  A1UQRSCLF8GW1T    Michael D. Bigham \"M. Wassir\"   \n",
      "\n",
      "   HelpfulnessNumerator  HelpfulnessDenominator  Score        Time   \n",
      "0                     1                       1      5  1303862400  \\\n",
      "1                     0                       0      1  1346976000   \n",
      "2                     1                       1      4  1219017600   \n",
      "3                     3                       3      2  1307923200   \n",
      "4                     0                       0      5  1350777600   \n",
      "\n",
      "                 Summary                                               Text  \n",
      "0  Good Quality Dog Food  I have bought several of the Vitality canned d...  \n",
      "1      Not as Advertised  Product arrived labeled as Jumbo Salted Peanut...  \n",
      "2  \"Delight\" says it all  This is a confection that has been around a fe...  \n",
      "3         Cough Medicine  If you are looking for the secret ingredient i...  \n",
      "4            Great taffy  Great taffy at a great price.  There was a wid...  \n",
      "(525814, 10)\n"
     ]
    }
   ],
   "source": [
    "conn = sq.connect(\"../database.sqlite\")\n",
    "data = pd.read_sql_query('SELECT * FROM REVIEWS WHERE SCORE!=3 ',conn)  #assuming 3 as neutral reviews and hence removing the same from our datastet\n",
    "print(data.head())\n",
    "print(data.shape)"
   ]
  },
  {
   "cell_type": "code",
   "execution_count": 3,
   "metadata": {},
   "outputs": [
    {
     "name": "stdout",
     "output_type": "stream",
     "text": [
      "original_data_shape =    COUNT(*)\n",
      "0    568454\n",
      "neutral_reviews_count =     count(*)\n",
      "0     42640\n",
      "(2, 10)\n"
     ]
    }
   ],
   "source": [
    "#count of rows having neutral rows\n",
    "print(\"original_data_shape =\",pd.read_sql_query('SELECT COUNT(*) FROM REVIEWS',conn))\n",
    "print(\"neutral_reviews_count = \",pd.read_sql_query('Select count(*) from REVIEWS WHERE SCORE=3',conn))\n",
    "\n",
    "#checking for redundancy where HelpFulnessNumerator is greater than HelpfulnessDenominator\n",
    "print(pd.read_sql_query('select  * from REVIEWS WHERE HelpFulnessNumerator>HelpFulnessDenominator',conn).shape)  \n",
    "conn.close()         #closing DB connection"
   ]
  },
  {
   "cell_type": "code",
   "execution_count": 4,
   "metadata": {},
   "outputs": [
    {
     "data": {
      "text/html": [
       "<div>\n",
       "<style scoped>\n",
       "    .dataframe tbody tr th:only-of-type {\n",
       "        vertical-align: middle;\n",
       "    }\n",
       "\n",
       "    .dataframe tbody tr th {\n",
       "        vertical-align: top;\n",
       "    }\n",
       "\n",
       "    .dataframe thead th {\n",
       "        text-align: right;\n",
       "    }\n",
       "</style>\n",
       "<table border=\"1\" class=\"dataframe\">\n",
       "  <thead>\n",
       "    <tr style=\"text-align: right;\">\n",
       "      <th></th>\n",
       "      <th>Id</th>\n",
       "      <th>ProductId</th>\n",
       "      <th>UserId</th>\n",
       "      <th>ProfileName</th>\n",
       "      <th>HelpfulnessNumerator</th>\n",
       "      <th>HelpfulnessDenominator</th>\n",
       "      <th>Score</th>\n",
       "      <th>Time</th>\n",
       "      <th>Summary</th>\n",
       "      <th>Text</th>\n",
       "    </tr>\n",
       "  </thead>\n",
       "  <tbody>\n",
       "    <tr>\n",
       "      <th>0</th>\n",
       "      <td>1</td>\n",
       "      <td>B001E4KFG0</td>\n",
       "      <td>A3SGXH7AUHU8GW</td>\n",
       "      <td>delmartian</td>\n",
       "      <td>1</td>\n",
       "      <td>1</td>\n",
       "      <td>1</td>\n",
       "      <td>1303862400</td>\n",
       "      <td>Good Quality Dog Food</td>\n",
       "      <td>I have bought several of the Vitality canned d...</td>\n",
       "    </tr>\n",
       "    <tr>\n",
       "      <th>1</th>\n",
       "      <td>2</td>\n",
       "      <td>B00813GRG4</td>\n",
       "      <td>A1D87F6ZCVE5NK</td>\n",
       "      <td>dll pa</td>\n",
       "      <td>0</td>\n",
       "      <td>0</td>\n",
       "      <td>0</td>\n",
       "      <td>1346976000</td>\n",
       "      <td>Not as Advertised</td>\n",
       "      <td>Product arrived labeled as Jumbo Salted Peanut...</td>\n",
       "    </tr>\n",
       "    <tr>\n",
       "      <th>2</th>\n",
       "      <td>3</td>\n",
       "      <td>B000LQOCH0</td>\n",
       "      <td>ABXLMWJIXXAIN</td>\n",
       "      <td>Natalia Corres \"Natalia Corres\"</td>\n",
       "      <td>1</td>\n",
       "      <td>1</td>\n",
       "      <td>1</td>\n",
       "      <td>1219017600</td>\n",
       "      <td>\"Delight\" says it all</td>\n",
       "      <td>This is a confection that has been around a fe...</td>\n",
       "    </tr>\n",
       "    <tr>\n",
       "      <th>3</th>\n",
       "      <td>4</td>\n",
       "      <td>B000UA0QIQ</td>\n",
       "      <td>A395BORC6FGVXV</td>\n",
       "      <td>Karl</td>\n",
       "      <td>3</td>\n",
       "      <td>3</td>\n",
       "      <td>0</td>\n",
       "      <td>1307923200</td>\n",
       "      <td>Cough Medicine</td>\n",
       "      <td>If you are looking for the secret ingredient i...</td>\n",
       "    </tr>\n",
       "    <tr>\n",
       "      <th>4</th>\n",
       "      <td>5</td>\n",
       "      <td>B006K2ZZ7K</td>\n",
       "      <td>A1UQRSCLF8GW1T</td>\n",
       "      <td>Michael D. Bigham \"M. Wassir\"</td>\n",
       "      <td>0</td>\n",
       "      <td>0</td>\n",
       "      <td>1</td>\n",
       "      <td>1350777600</td>\n",
       "      <td>Great taffy</td>\n",
       "      <td>Great taffy at a great price.  There was a wid...</td>\n",
       "    </tr>\n",
       "  </tbody>\n",
       "</table>\n",
       "</div>"
      ],
      "text/plain": [
       "   Id   ProductId          UserId                      ProfileName   \n",
       "0   1  B001E4KFG0  A3SGXH7AUHU8GW                       delmartian  \\\n",
       "1   2  B00813GRG4  A1D87F6ZCVE5NK                           dll pa   \n",
       "2   3  B000LQOCH0   ABXLMWJIXXAIN  Natalia Corres \"Natalia Corres\"   \n",
       "3   4  B000UA0QIQ  A395BORC6FGVXV                             Karl   \n",
       "4   5  B006K2ZZ7K  A1UQRSCLF8GW1T    Michael D. Bigham \"M. Wassir\"   \n",
       "\n",
       "   HelpfulnessNumerator  HelpfulnessDenominator  Score        Time   \n",
       "0                     1                       1      1  1303862400  \\\n",
       "1                     0                       0      0  1346976000   \n",
       "2                     1                       1      1  1219017600   \n",
       "3                     3                       3      0  1307923200   \n",
       "4                     0                       0      1  1350777600   \n",
       "\n",
       "                 Summary                                               Text  \n",
       "0  Good Quality Dog Food  I have bought several of the Vitality canned d...  \n",
       "1      Not as Advertised  Product arrived labeled as Jumbo Salted Peanut...  \n",
       "2  \"Delight\" says it all  This is a confection that has been around a fe...  \n",
       "3         Cough Medicine  If you are looking for the secret ingredient i...  \n",
       "4            Great taffy  Great taffy at a great price.  There was a wid...  "
      ]
     },
     "execution_count": 4,
     "metadata": {},
     "output_type": "execute_result"
    }
   ],
   "source": [
    "# score of > 3 is positive and <3 taken as negative\n",
    "def re_score(x):\n",
    "    if x < 3: \n",
    "        return 0\n",
    "    return 1\n",
    "\n",
    "data['Score'] = data['Score'].map(re_score)\n",
    "data.head() "
   ]
  },
  {
   "cell_type": "code",
   "execution_count": 5,
   "metadata": {},
   "outputs": [],
   "source": [
    "#kind = type of sorting (read np.sort)\n",
    "#position of null positions (na_postion) = first or last\n",
    "sorted_data = data.sort_values('ProductId',axis='index',ascending=True,kind='mergesort',na_position='last')"
   ]
  },
  {
   "cell_type": "code",
   "execution_count": 6,
   "metadata": {},
   "outputs": [
    {
     "data": {
      "text/plain": [
       "(524691, 10)"
      ]
     },
     "execution_count": 6,
     "metadata": {},
     "output_type": "execute_result"
    }
   ],
   "source": [
    "df = sorted_data.drop_duplicates(subset={\"ProductId\",\"UserId\",\"Time\",\"ProfileName\",\"Text\"},keep='first')\n",
    "df.shape"
   ]
  },
  {
   "cell_type": "code",
   "execution_count": 7,
   "metadata": {},
   "outputs": [
    {
     "data": {
      "text/plain": [
       "(524689, 10)"
      ]
     },
     "execution_count": 7,
     "metadata": {},
     "output_type": "execute_result"
    }
   ],
   "source": [
    "df = df[df['HelpfulnessNumerator']<=df['HelpfulnessDenominator']]  #two records were present\n",
    "df.shape\n"
   ]
  },
  {
   "cell_type": "code",
   "execution_count": 8,
   "metadata": {},
   "outputs": [
    {
     "data": {
      "text/html": [
       "<div>\n",
       "<style scoped>\n",
       "    .dataframe tbody tr th:only-of-type {\n",
       "        vertical-align: middle;\n",
       "    }\n",
       "\n",
       "    .dataframe tbody tr th {\n",
       "        vertical-align: top;\n",
       "    }\n",
       "\n",
       "    .dataframe thead th {\n",
       "        text-align: right;\n",
       "    }\n",
       "</style>\n",
       "<table border=\"1\" class=\"dataframe\">\n",
       "  <thead>\n",
       "    <tr style=\"text-align: right;\">\n",
       "      <th></th>\n",
       "      <th>Id</th>\n",
       "      <th>ProductId</th>\n",
       "      <th>UserId</th>\n",
       "      <th>ProfileName</th>\n",
       "      <th>HelpfulnessNumerator</th>\n",
       "      <th>HelpfulnessDenominator</th>\n",
       "      <th>Score</th>\n",
       "      <th>Time</th>\n",
       "      <th>Summary</th>\n",
       "      <th>Text</th>\n",
       "    </tr>\n",
       "  </thead>\n",
       "  <tbody>\n",
       "    <tr>\n",
       "      <th>138676</th>\n",
       "      <td>150493</td>\n",
       "      <td>0006641040</td>\n",
       "      <td>AMX0PJKV4PPNJ</td>\n",
       "      <td>E. R. Bird \"Ramseelbird\"</td>\n",
       "      <td>71</td>\n",
       "      <td>72</td>\n",
       "      <td>1</td>\n",
       "      <td>1096416000</td>\n",
       "      <td>Read it once. Read it twice. Reading Chicken S...</td>\n",
       "      <td>These days, when a person says, \"chicken soup\"...</td>\n",
       "    </tr>\n",
       "    <tr>\n",
       "      <th>138677</th>\n",
       "      <td>150494</td>\n",
       "      <td>0006641040</td>\n",
       "      <td>AYZ0PR5QZROD1</td>\n",
       "      <td>Mother of 3 girls</td>\n",
       "      <td>3</td>\n",
       "      <td>3</td>\n",
       "      <td>1</td>\n",
       "      <td>1173312000</td>\n",
       "      <td>Family favorite</td>\n",
       "      <td>All of my children love this book.  My first g...</td>\n",
       "    </tr>\n",
       "    <tr>\n",
       "      <th>138678</th>\n",
       "      <td>150496</td>\n",
       "      <td>0006641040</td>\n",
       "      <td>A3KKR87BJ0C595</td>\n",
       "      <td>Gretchen Goodfellow \"Lover of children's lit\"</td>\n",
       "      <td>3</td>\n",
       "      <td>3</td>\n",
       "      <td>1</td>\n",
       "      <td>1111363200</td>\n",
       "      <td>You'll use it once, you'll use it twice</td>\n",
       "      <td>One of my earliest memories is of this book.  ...</td>\n",
       "    </tr>\n",
       "    <tr>\n",
       "      <th>138679</th>\n",
       "      <td>150497</td>\n",
       "      <td>0006641040</td>\n",
       "      <td>A1HKYQOFC8ZZCH</td>\n",
       "      <td>Maria Apolloni \"lanarossa\"</td>\n",
       "      <td>2</td>\n",
       "      <td>2</td>\n",
       "      <td>0</td>\n",
       "      <td>1334707200</td>\n",
       "      <td>The story is great, the softcover book is disa...</td>\n",
       "      <td>I give five stars to the Maurice Sendak story....</td>\n",
       "    </tr>\n",
       "    <tr>\n",
       "      <th>138680</th>\n",
       "      <td>150498</td>\n",
       "      <td>0006641040</td>\n",
       "      <td>A3SJWISOCP31TR</td>\n",
       "      <td>R. J. Wells</td>\n",
       "      <td>2</td>\n",
       "      <td>2</td>\n",
       "      <td>1</td>\n",
       "      <td>1176336000</td>\n",
       "      <td>A Gem of a Book</td>\n",
       "      <td>This is a wonderful little book. I loved it 40...</td>\n",
       "    </tr>\n",
       "  </tbody>\n",
       "</table>\n",
       "</div>"
      ],
      "text/plain": [
       "            Id   ProductId          UserId   \n",
       "138676  150493  0006641040   AMX0PJKV4PPNJ  \\\n",
       "138677  150494  0006641040   AYZ0PR5QZROD1   \n",
       "138678  150496  0006641040  A3KKR87BJ0C595   \n",
       "138679  150497  0006641040  A1HKYQOFC8ZZCH   \n",
       "138680  150498  0006641040  A3SJWISOCP31TR   \n",
       "\n",
       "                                          ProfileName  HelpfulnessNumerator   \n",
       "138676                       E. R. Bird \"Ramseelbird\"                    71  \\\n",
       "138677                              Mother of 3 girls                     3   \n",
       "138678  Gretchen Goodfellow \"Lover of children's lit\"                     3   \n",
       "138679                     Maria Apolloni \"lanarossa\"                     2   \n",
       "138680                                    R. J. Wells                     2   \n",
       "\n",
       "        HelpfulnessDenominator  Score        Time   \n",
       "138676                      72      1  1096416000  \\\n",
       "138677                       3      1  1173312000   \n",
       "138678                       3      1  1111363200   \n",
       "138679                       2      0  1334707200   \n",
       "138680                       2      1  1176336000   \n",
       "\n",
       "                                                  Summary   \n",
       "138676  Read it once. Read it twice. Reading Chicken S...  \\\n",
       "138677                                    Family favorite   \n",
       "138678            You'll use it once, you'll use it twice   \n",
       "138679  The story is great, the softcover book is disa...   \n",
       "138680                                    A Gem of a Book   \n",
       "\n",
       "                                                     Text  \n",
       "138676  These days, when a person says, \"chicken soup\"...  \n",
       "138677  All of my children love this book.  My first g...  \n",
       "138678  One of my earliest memories is of this book.  ...  \n",
       "138679  I give five stars to the Maurice Sendak story....  \n",
       "138680  This is a wonderful little book. I loved it 40...  "
      ]
     },
     "execution_count": 8,
     "metadata": {},
     "output_type": "execute_result"
    }
   ],
   "source": [
    "df.head(5)"
   ]
  },
  {
   "cell_type": "code",
   "execution_count": 9,
   "metadata": {},
   "outputs": [
    {
     "name": "stdout",
     "output_type": "stream",
     "text": [
      "Id                        False\n",
      "ProductId                 False\n",
      "UserId                    False\n",
      "ProfileName               False\n",
      "HelpfulnessNumerator      False\n",
      "HelpfulnessDenominator    False\n",
      "Score                     False\n",
      "Time                      False\n",
      "Summary                   False\n",
      "Text                      False\n",
      "dtype: bool\n"
     ]
    }
   ],
   "source": [
    "# checking for redundant values\n",
    "print(df.isna().any())"
   ]
  },
  {
   "cell_type": "markdown",
   "metadata": {},
   "source": [
    "Text Preprocessing"
   ]
  },
  {
   "cell_type": "code",
   "execution_count": 10,
   "metadata": {},
   "outputs": [],
   "source": [
    "import re"
   ]
  },
  {
   "cell_type": "code",
   "execution_count": 11,
   "metadata": {},
   "outputs": [
    {
     "data": {
      "text/plain": [
       "'These days, when a person says, \"chicken soup\" they\\'re probably going to follow up those words with, \"for the soul\" or maybe \"for the teenaged soul\".  Didn\\'t used to be that way.  Why I can remember a time when if a person said, \"chicken soup\" those words were followed by an enthusiastic \"with rice!\".  Such was the power of Maurice Sendak\\'s catchy 1962 children\\'s book.  I am pleased to report that if you care to read this book again today, you will find it hasn\\'t dimished a jot in terms of frolicksome fun.  In this book we are led through a whirlwind chicken soup year with our host, a boy who bears no little resemblance to Sendak\\'s other great rhyming tale \"Pierre\" (in looks if not demeanor).  It\\'s a catchy flouncy bouncy combo of soup and the people who love it so.<br /><br />This is ostensibly a book meant to teach your children the different months of the year.  Each month gets its own rhythmic poem and accompanying illustration.  These are fairly simple pen and ink drawings with the occasional splash of blue (in varying shades), yellow, gray, and green.  You may wonder how an author could ever hope to come up with twelve highly original soup-related poems.  I mean, honestly, how much is there to say about even the fanciest soup, let alone chicken soup with rice?  Quite a lot, as it happens.  In the cold winter months soup is supped while sliding on ice, while celebrating the birthday of a snowman, and in a gusty gale as a whale.  In the spring there\\'s robin\\'s nest soup, soup to cure drooping roses, and soup stolen by jealous March winds.  Our hero postulates the potential joys that could come of being a cooking pot, stewing soup or (oddly enough) as \"a baubled bangled Christmas tree\".<br /><br />Not to degrade the reading skills of parents everywhere, but I cannot recommend enough getting an audio version of this tale to accompany your child\\'s reading.  Though I am now a wise and cultured 26 year-old (the years have been kind to me in this, my old age) I can still remember the chicken soup with rice tune.  Heck, I read this entire book recently and found I could do the song perfectly with each and every line.  Now maybe you have your own particular chicken soup with rice song style that you\\'re just loathe to give up.  If so, fine.  I understand why you might not want to taint your already existing chicken soup melody.  But if you haven\\'t found a jingle to accompany this book, get the audio version immediately, if not sooner.  Until you can sing \"Whoopy once, whoopy twice, whoopy chicken soup with rice\" with the correct oomph, you\\'re missing out.<br /><br />I take my \"Chicken Soup With Rice\" readings seriously.  This book was the \"Chicka Chicka Boom Boom\" of its day, and still remains the catchiest method to teach kids the months of the year.  It is also seriously in danger of being forgotten.  So pull out your old accordion and strap on your dancing shoes.  The time for yukkin\\' it up to a merry dance of poultry broth is here.  It\\'s Sendak at his finest.'"
      ]
     },
     "execution_count": 11,
     "metadata": {},
     "output_type": "execute_result"
    }
   ],
   "source": [
    "text1 = df['Text'].values[0]\n",
    "text1"
   ]
  },
  {
   "cell_type": "code",
   "execution_count": 12,
   "metadata": {},
   "outputs": [
    {
     "data": {
      "text/plain": [
       "' is my favourite web'"
      ]
     },
     "execution_count": 12,
     "metadata": {},
     "output_type": "execute_result"
    }
   ],
   "source": [
    "#removing URLs from text\n",
    "text0  = \"www.pornhub is my favourite web\"\n",
    "text0 = re.sub(r'http\\S+','',text0)\n",
    "text0 = re.sub(r'www\\S+','',text0)\n",
    "text0"
   ]
  },
  {
   "cell_type": "code",
   "execution_count": 13,
   "metadata": {},
   "outputs": [
    {
     "data": {
      "text/plain": [
       "\"We have used the Victor fly bait for 3 seasons.  Can't beat it.  Great product!\""
      ]
     },
     "execution_count": 13,
     "metadata": {},
     "output_type": "execute_result"
    }
   ],
   "source": [
    "#removing HTML tags\n",
    "from bs4 import BeautifulSoup\n",
    "text2 = \"<html><body><p>We have used the Victor fly bait for 3 seasons.  Can't beat it.  Great product!</p></body></html>\"\n",
    "text2 = BeautifulSoup(text2).get_text()\n",
    "text2\n"
   ]
  },
  {
   "cell_type": "code",
   "execution_count": 14,
   "metadata": {},
   "outputs": [
    {
     "data": {
      "text/plain": [
       "'These days when a person says chicken soup they re probably going to follow up those words with for the soul or maybe for the teenaged soul Didn t used to be that way Why I can remember a time when if a person said chicken soup those words were followed by an enthusiastic with rice Such was the power of Maurice Sendak s catchy 1962 children s book I am pleased to report that if you care to read this book again today you will find it hasn t dimished a jot in terms of frolicksome fun In this book we are led through a whirlwind chicken soup year with our host a boy who bears no little resemblance to Sendak s other great rhyming tale Pierre in looks if not demeanor It s a catchy flouncy bouncy combo of soup and the people who love it so br br This is ostensibly a book meant to teach your children the different months of the year Each month gets its own rhythmic poem and accompanying illustration These are fairly simple pen and ink drawings with the occasional splash of blue in varying shades yellow gray and green You may wonder how an author could ever hope to come up with twelve highly original soup related poems I mean honestly how much is there to say about even the fanciest soup let alone chicken soup with rice Quite a lot as it happens In the cold winter months soup is supped while sliding on ice while celebrating the birthday of a snowman and in a gusty gale as a whale In the spring there s robin s nest soup soup to cure drooping roses and soup stolen by jealous March winds Our hero postulates the potential joys that could come of being a cooking pot stewing soup or oddly enough as a baubled bangled Christmas tree br br Not to degrade the reading skills of parents everywhere but I cannot recommend enough getting an audio version of this tale to accompany your child s reading Though I am now a wise and cultured 26 year old the years have been kind to me in this my old age I can still remember the chicken soup with rice tune Heck I read this entire book recently and found I could do the song perfectly with each and every line Now maybe you have your own particular chicken soup with rice song style that you re just loathe to give up If so fine I understand why you might not want to taint your already existing chicken soup melody But if you haven t found a jingle to accompany this book get the audio version immediately if not sooner Until you can sing Whoopy once whoopy twice whoopy chicken soup with rice with the correct oomph you re missing out br br I take my Chicken Soup With Rice readings seriously This book was the Chicka Chicka Boom Boom of its day and still remains the catchiest method to teach kids the months of the year It is also seriously in danger of being forgotten So pull out your old accordion and strap on your dancing shoes The time for yukkin it up to a merry dance of poultry broth is here It s Sendak at his finest '"
      ]
     },
     "execution_count": 14,
     "metadata": {},
     "output_type": "execute_result"
    }
   ],
   "source": [
    "\n",
    "#Removing special character and punctuations\n",
    "text1 = '''These days, when a person says, \"chicken soup\" they\\'re \n",
    "probably going to follow up those words with, \"for the soul\" or maybe \"for the teenaged soul\".  \n",
    "Didn\\'t used to be that way.  Why I can remember a time when if a person said, \"chicken soup\" \n",
    "those words were followed by an enthusiastic \"with rice!\".  Such was the power of Maurice Sendak\\'s catchy \n",
    "1962 children\\'s book.  I am pleased to report that if you care to read this book again today, \n",
    "you will find it hasn\\'t dimished a jot in terms of frolicksome fun.  \n",
    "In this book we are led through a whirlwind chicken soup year with our host, \n",
    "a boy who bears no little resemblance to Sendak\\'s other great rhyming tale \"Pierre\" (in looks if not demeanor).  \n",
    "It\\'s a catchy flouncy bouncy combo of soup and the people who love it so.<br /><br />This is ostensibly a book \n",
    "meant to teach your children the different months of the year.  Each month gets its own rhythmic poem and accompanying illustration.  \n",
    "These are fairly simple pen and ink drawings with the occasional splash of blue (in varying shades), yellow, gray, and green.  \n",
    "You may wonder how an author could ever hope to come up with twelve highly original soup-related poems.  I mean, honestly, how much \n",
    "is there to say about even the fanciest soup, let alone chicken soup with rice?  Quite a lot, as it happens.  In the cold winter\n",
    " months soup is supped while sliding on ice, while celebrating the birthday of a snowman, and in a gusty gale as a whale. \n",
    "   In the spring there\\'s robin\\'s nest soup, soup to cure drooping roses, and soup stolen by jealous March winds.  \n",
    "   Our hero postulates the potential joys that could come of being a cooking pot, stewing soup or (oddly enough) as \n",
    "   \"a baubled bangled Christmas tree\".<br /><br />Not to degrade the reading skills of parents everywhere,\n",
    "     but I cannot recommend enough getting an audio version of this tale to accompany your child\\'s reading. \n",
    "       Though I am now a wise and cultured 26 year-old (the years have been kind to me in this, my old age)\n",
    "         I can still remember the chicken soup with rice tune.  Heck, I read this entire book recently and \n",
    "         found I could do the song perfectly with each and every line.  Now maybe you have your own particular chicken soup with rice song style that\n",
    "           you\\'re just loathe to give up.  If so, fine.  I understand why you might not want to taint your already existing chicken soup melody.\n",
    "               But if you haven\\'t found a jingle to accompany this book, get the audio version immediately,\n",
    "                 if not sooner.  Until you can sing \"Whoopy once, whoopy twice, whoopy chicken soup with rice\" with the correct oomph,\n",
    "                   you\\'re missing out.<br /><br />I take my \"Chicken Soup With Rice\" readings seriously. \n",
    "                     This book was the \"Chicka Chicka Boom Boom\" of its day, and still remains the catchiest method to teach kids the months of the year.  \n",
    "                     It is also seriously in danger of being forgotten.  So pull out your old accordion and strap on your dancing shoes.  \n",
    "                     The time for yukkin\\' it up to a merry dance of poultry broth is here.  It\\'s Sendak at his finest.'''\n",
    "\n",
    "text1 = re.sub('[^A-Za-z0-9]+',' ',text1)\n",
    "text1"
   ]
  },
  {
   "cell_type": "code",
   "execution_count": 15,
   "metadata": {},
   "outputs": [
    {
     "data": {
      "text/plain": [
       "\"We have used the Victor fly bait for  seasons.  Can't beat it.  Great product!\""
      ]
     },
     "execution_count": 15,
     "metadata": {},
     "output_type": "execute_result"
    }
   ],
   "source": [
    "#removing alpha-numeric characters\n",
    "text2 = re.sub('\\S*\\d\\S*','',text2)\n",
    "text2"
   ]
  },
  {
   "cell_type": "code",
   "execution_count": 16,
   "metadata": {},
   "outputs": [],
   "source": [
    "#performing decontraction\n",
    "def decontraction(phrase):\n",
    "    phrase = re.sub(r\"won't\",\"will not\",phrase)\n",
    "    phrase = re.sub(r\"can't\",\"can not\",phrase)\n",
    "    phrase = re.sub(r\"n't\",\"not\",phrase)\n",
    "    phrase = re.sub(r\"\\'re\",\"are\",phrase)\n",
    "    phrase = re.sub(r\"\\'s\",\" is\",phrase)\n",
    "    phrase = re.sub(r\"\\'d\",\" would\",phrase)\n",
    "    phrase = re.sub(r\"\\'ll\",\" will\",phrase)\n",
    "    phrase = re.sub(r\"\\'t\",\" not\",phrase)\n",
    "    phrase = re.sub(r\"\\'ve\",\" have\",phrase)\n",
    "    phrase = re.sub(r\"\\'m\",\" am\",phrase)\n",
    "    return phrase\n"
   ]
  },
  {
   "cell_type": "code",
   "execution_count": 17,
   "metadata": {},
   "outputs": [
    {
     "name": "stdout",
     "output_type": "stream",
     "text": [
      "Mrs. May is pumpkin crunch is a great snack. For those of you watching calories and intake, be aware that the 2oz portions are two servings. Most of Mrs. May is products are great, but with the fat at 11g per serving, i find it is not a complete guilt free snack. However, the pumpkin seed crunch has 9gms of protein per serving vs. the usual 4gms in their other snacks. So if youare monitoring your intake and want to indulge in these now and then, the pumpkin seed crunch is the healthiest option of the bunch.<br /><br />That said, they are all tasty and certainly not bad for you, just a little high in fat if youare watching your weight.\n"
     ]
    }
   ],
   "source": [
    "text4 = 'Mrs. May\\'s pumpkin crunch is a great snack. For those of you watching calories and intake, be aware that the 2oz portions are two servings. Most of Mrs. May\\'s products are great, but with the fat at 11g per serving, i find it\\'s not a complete guilt free snack. However, the pumpkin seed crunch has 9gms of protein per serving vs. the usual 4gms in their other snacks. So if you\\'re monitoring your intake and want to indulge in these now and then, the pumpkin seed crunch is the healthiest option of the bunch.<br /><br />That said, they are all tasty and certainly not bad for you, just a little high in fat if you\\'re watching your weight.'\n",
    "print(decontraction(text4))"
   ]
  },
  {
   "cell_type": "code",
   "execution_count": 18,
   "metadata": {},
   "outputs": [
    {
     "name": "stdout",
     "output_type": "stream",
     "text": [
      "mrs. may's pumpkin crunch is a great snack. for those of you watching calories and intake, be aware that the 2oz portions are two servings. most of mrs. may's products are great, but with the fat at 11g per serving, i find it's not a complete guilt free snack. however, the pumpkin seed crunch has 9gms of protein per serving vs. the usual 4gms in their other snacks. so if you're monitoring your intake and want to indulge in these now and then, the pumpkin seed crunch is the healthiest option of the bunch.<br /><br />that said, they are all tasty and certainly not bad for you, just a little high in fat if you're watching your weight.\n"
     ]
    }
   ],
   "source": [
    "# converting texts into lower case\n",
    "def lower_case(phrase):\n",
    "    phrase = ''.join(i.lower() for i in phrase)\n",
    "    return phrase\n",
    "\n",
    "print(lower_case(text4))"
   ]
  },
  {
   "cell_type": "code",
   "execution_count": 19,
   "metadata": {},
   "outputs": [
    {
     "name": "stdout",
     "output_type": "stream",
     "text": [
      "Mrs. May's pumpkin crunch great snack. watching calories intake, aware 2oz portions two servings. Mrs. May's products great, fat 11g per serving, find complete guilt free snack. However, pumpkin seed crunch 9gms protein per serving vs. usual 4gms snacks. monitoring intake want indulge then, pumpkin seed crunch healthiest option bunch.<br /><br />That said, tasty certainly bad you, little high fat watching weight.\n"
     ]
    }
   ],
   "source": [
    "#removing stopwords\n",
    "\n",
    "import nltk \n",
    "from nltk.corpus import stopwords\n",
    "stopwords = stopwords.words('english')\n",
    "def remove_stop_words(phrase):\n",
    "    phrase  = \" \".join(i for i in phrase.split() if i.lower() not in stopwords)\n",
    "    return phrase\n",
    "\n",
    "print(remove_stop_words(text4))"
   ]
  },
  {
   "cell_type": "code",
   "execution_count": 20,
   "metadata": {},
   "outputs": [],
   "source": [
    "#stemming words\n",
    "from nltk.stem import SnowballStemmer\n",
    "stemmer = SnowballStemmer('english')\n"
   ]
  },
  {
   "cell_type": "code",
   "execution_count": 22,
   "metadata": {},
   "outputs": [
    {
     "name": "stderr",
     "output_type": "stream",
     "text": [
      "100%|██████████| 524689/524689 [06:48<00:00, 1283.77it/s]\n"
     ]
    }
   ],
   "source": [
    "#single block to perform all text-preprocessing\n",
    "from tqdm import tqdm\n",
    "\n",
    "corpus = []\n",
    "for review in tqdm(df['Text'].values) :\n",
    "    review = re.sub(r'http\\S+','',review)\n",
    "    review = re.sub(r'www\\S+','',review)\n",
    "    review = re.sub('[^A-Za-z0-9]+',\" \",review)\n",
    "    review = BeautifulSoup(review).get_text()\n",
    "    review = re.sub('\\S*\\d\\S*',' ',review)\n",
    "    review = ' '.join(i.lower() for i in review.split() if i.lower() not in stopwords)\n",
    "    review = decontraction(review)\n",
    "    review = ' '.join(stemmer.stem(i) for i in review.split())\n",
    "    corpus.append(review)\n",
    "\n"
   ]
  },
  {
   "cell_type": "code",
   "execution_count": 23,
   "metadata": {},
   "outputs": [
    {
     "data": {
      "text/plain": [
       "'whole idea keep flea hous invad tri everi thing spray power name temporari solut best best respons invas trap invad trap flea remov trap kid yes trap work remov flea dead chemic flea get hous prefer kill resid hous tri trap br br mike'"
      ]
     },
     "execution_count": 23,
     "metadata": {},
     "output_type": "execute_result"
    }
   ],
   "source": [
    "corpus[999]"
   ]
  },
  {
   "cell_type": "markdown",
   "metadata": {},
   "source": [
    "Vectorization"
   ]
  },
  {
   "cell_type": "markdown",
   "metadata": {},
   "source": [
    "1. Bag of Words"
   ]
  },
  {
   "cell_type": "code",
   "execution_count": 24,
   "metadata": {},
   "outputs": [],
   "source": [
    "from sklearn.feature_extraction.text import CountVectorizer\n",
    "\n",
    "def bag_of_words(data):\n",
    "    bow = CountVectorizer()\n",
    "    return bow.fit_transform(data)\n",
    "    "
   ]
  },
  {
   "cell_type": "markdown",
   "metadata": {},
   "source": [
    "2. TF-IDF"
   ]
  },
  {
   "cell_type": "code",
   "execution_count": 25,
   "metadata": {},
   "outputs": [],
   "source": [
    "from sklearn.feature_extraction.text import TfidfVectorizer\n",
    "\n",
    "def tf_idf(data):\n",
    "    cv= TfidfVectorizer()\n",
    "    return cv.fit_transform(data).toarray()\n"
   ]
  },
  {
   "cell_type": "markdown",
   "metadata": {},
   "source": [
    "3.  Word2vec"
   ]
  },
  {
   "cell_type": "code",
   "execution_count": 45,
   "metadata": {},
   "outputs": [
    {
     "data": {
      "text/plain": [
       "['day person say chicken soup probabl go follow word soul mayb teenag soul use way rememb time person said chicken soup word follow enthusiast rice power mauric sendak catchi children book pleas report care read book today find dimish jot term frolicksom fun book led whirlwind chicken soup year host boy bear littl resembl sendak great rhyme tale pierr look demeanor catchi flounci bounci combo soup peopl love br br ostens book meant teach children differ month year month get rhythmic poem accompani illustr fair simpl pen ink draw occasion splash blue vari shade yellow gray green may wonder author could ever hope come twelv high origin soup relat poem mean honest much say even fanciest soup let alon chicken soup rice quit lot happen cold winter month soup sup slide ice celebr birthday snowman gusti gale whale spring robin nest soup soup cure droop rose soup stolen jealous march wind hero postul potenti joy could come cook pot stew soup odd enough baubl bangl christma tree br br degrad read skill parent everywher cannot recommend enough get audio version tale accompani child read though wise cultur year old year kind old age still rememb chicken soup rice tune heck read entir book recent found could song perfect everi line mayb particular chicken soup rice song style loath give fine understand might want taint alreadi exist chicken soup melodi found jingl accompani book get audio version immedi sooner sing whoopi whoopi twice whoopi chicken soup rice correct oomph miss br br take chicken soup rice read serious book chicka chicka boom boom day still remain catchiest method teach kid month year also serious danger forgotten pull old accordion strap danc shoe time yukkin merri danc poultri broth sendak finest',\n",
       " 'children love book first grader got christma love read rhyme proud month teacher work month book class read independ yet girl especi enjoy read month born sing go go twice go chicken soup rice book classic rememb childhood high recommend wish book larger size tend get lost bookshelf among regular size book',\n",
       " 'one earliest memori book mother read us constant read one us quot non stop fact typic sort soup would beg groceri book br br sinc use book everi class teach situat never met child love ask read sure beat stupid song sing preschool month year even mauric sendak fan enjoy one origin poetic',\n",
       " 'give five star mauric sendak stori one star print edit book br children older copi book familiar previous softcov version order granddaught embarrass give gift look puni book size postcard think overpr learn lesson buy softcov children book next time get use copi',\n",
       " 'wonder littl book love year ago twin love enjoy help finish month sing chicken soup rice br br cute draw add fun warn one un pc toto',\n",
       " 'book favorit mine sinc abl read one first introduct poetri humor rhyme inspir write type book colleg student reminisc bond realli simpl good',\n",
       " 'favorit book mine littl girl would read time mom would read bedtim book two copi book first one either lost given away found anoth copi garag sale good condit buy know around somewher probabl attic look read niec recommend book',\n",
       " 'rememb see show air televis year ago child sister later bought lp day thirti someth use seri book amp song student teach preschool amp turn whole school purchas cd along book children amp tradit live',\n",
       " 'copi smaller expect most pay attent list dimens book mauric sendak wonder littl book month rhyme absolut silli much fun read rememb fond child want make sure littl one book shelf cute way teach month year mention celebr person love soup beauti illustr way sendak',\n",
       " 'grand daughter favorit book read love rhythm cute stori actual enjoy read']"
      ]
     },
     "execution_count": 45,
     "metadata": {},
     "output_type": "execute_result"
    }
   ],
   "source": [
    "data = corpus[0:10]\n",
    "data"
   ]
  },
  {
   "cell_type": "code",
   "execution_count": 132,
   "metadata": {},
   "outputs": [
    {
     "name": "stdout",
     "output_type": "stream",
     "text": [
      "(10, 350)\n",
      "[[0 0 3 ... 1 0 1]\n",
      " [0 0 0 ... 0 1 0]\n",
      " [0 0 0 ... 0 0 0]\n",
      " ...\n",
      " [0 0 0 ... 0 0 0]\n",
      " [0 1 0 ... 0 0 0]\n",
      " [0 0 0 ... 0 0 0]]\n"
     ]
    }
   ],
   "source": [
    "X = bag_of_words(data)\n",
    "X_bow = X.toarray()\n",
    "print(X_bow.shape)\n",
    "print(X_bow)"
   ]
  },
  {
   "cell_type": "code",
   "execution_count": 133,
   "metadata": {},
   "outputs": [
    {
     "name": "stdout",
     "output_type": "stream",
     "text": [
      "(10, 350)\n",
      "[[0.         0.         0.13534749 ... 0.04511583 0.         0.04511583]\n",
      " [0.         0.         0.         ... 0.         0.14757503 0.        ]\n",
      " [0.         0.         0.         ... 0.         0.         0.        ]\n",
      " ...\n",
      " [0.         0.         0.         ... 0.         0.         0.        ]\n",
      " [0.         0.17333612 0.         ... 0.         0.         0.        ]\n",
      " [0.         0.         0.         ... 0.         0.         0.        ]]\n"
     ]
    }
   ],
   "source": [
    "X_tfidf = tf_idf(data)\n",
    "print(X_tfidf.shape)\n",
    "print(X_tfidf)"
   ]
  },
  {
   "cell_type": "code",
   "execution_count": 53,
   "metadata": {},
   "outputs": [],
   "source": [
    "from gensim.models import Word2Vec\n",
    "#for word2vec , data is required as list of lists\n",
    "#more the data, better is the performance\n",
    "\n",
    "ds = []\n",
    "for e in corpus:\n",
    "    ds.append(e.split(' '))\n",
    "\n",
    "model = Word2Vec(ds,vector_size=150,window=25,min_count=2)    \n",
    "# size is number of dimensions of vector that you want to build\n",
    "# window is the maximum distance between two similar words\n",
    "# min_count is the minimum number of times the word must appear in corpus\n",
    "# workers is the numbers of cpu that you want to use"
   ]
  },
  {
   "cell_type": "code",
   "execution_count": 56,
   "metadata": {},
   "outputs": [
    {
     "name": "stdout",
     "output_type": "stream",
     "text": [
      "[('delici', 0.6372284293174744), ('yummi', 0.5504572987556458), ('tastey', 0.5059869885444641), ('good', 0.4927912652492523), ('nice', 0.46648356318473816), ('snack', 0.4612698256969452), ('scrumptious', 0.4228350520133972), ('cruch', 0.4072302579879761), ('crunchi', 0.40108391642570496), ('fill', 0.39876511693000793)]\n"
     ]
    }
   ],
   "source": [
    "w1 = 'tasti'\n",
    "print(model.wv.most_similar(w1))"
   ]
  },
  {
   "cell_type": "code",
   "execution_count": null,
   "metadata": {},
   "outputs": [],
   "source": []
  }
 ],
 "metadata": {
  "kernelspec": {
   "display_name": "Python 3",
   "language": "python",
   "name": "python3"
  },
  "language_info": {
   "codemirror_mode": {
    "name": "ipython",
    "version": 3
   },
   "file_extension": ".py",
   "mimetype": "text/x-python",
   "name": "python",
   "nbconvert_exporter": "python",
   "pygments_lexer": "ipython3",
   "version": "3.10.10"
  }
 },
 "nbformat": 4,
 "nbformat_minor": 2
}
