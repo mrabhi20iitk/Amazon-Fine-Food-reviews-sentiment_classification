{
 "cells": [
  {
   "cell_type": "markdown",
   "metadata": {},
   "source": [
    "Importing Libraries and dataset"
   ]
  },
  {
   "cell_type": "code",
   "execution_count": 1,
   "metadata": {},
   "outputs": [],
   "source": [
    "import pandas as pd \n",
    "import numpy as np \n",
    "import sqlite3 as sq\n",
    "from bs4 import BeautifulSoup"
   ]
  },
  {
   "cell_type": "code",
   "execution_count": 3,
   "metadata": {},
   "outputs": [
    {
     "name": "stdout",
     "output_type": "stream",
     "text": [
      "   Id   ProductId          UserId                      ProfileName   \n",
      "0   1  B001E4KFG0  A3SGXH7AUHU8GW                       delmartian  \\\n",
      "1   2  B00813GRG4  A1D87F6ZCVE5NK                           dll pa   \n",
      "2   3  B000LQOCH0   ABXLMWJIXXAIN  Natalia Corres \"Natalia Corres\"   \n",
      "3   4  B000UA0QIQ  A395BORC6FGVXV                             Karl   \n",
      "4   5  B006K2ZZ7K  A1UQRSCLF8GW1T    Michael D. Bigham \"M. Wassir\"   \n",
      "\n",
      "   HelpfulnessNumerator  HelpfulnessDenominator  Score        Time   \n",
      "0                     1                       1      5  1303862400  \\\n",
      "1                     0                       0      1  1346976000   \n",
      "2                     1                       1      4  1219017600   \n",
      "3                     3                       3      2  1307923200   \n",
      "4                     0                       0      5  1350777600   \n",
      "\n",
      "                 Summary                                               Text  \n",
      "0  Good Quality Dog Food  I have bought several of the Vitality canned d...  \n",
      "1      Not as Advertised  Product arrived labeled as Jumbo Salted Peanut...  \n",
      "2  \"Delight\" says it all  This is a confection that has been around a fe...  \n",
      "3         Cough Medicine  If you are looking for the secret ingredient i...  \n",
      "4            Great taffy  Great taffy at a great price.  There was a wid...  \n",
      "(525814, 10)\n"
     ]
    }
   ],
   "source": [
    "conn = sq.connect(\"database.sqlite\")\n",
    "data = pd.read_sql_query('SELECT * FROM REVIEWS WHERE SCORE!=3 ',conn)  #assuming 3 as neutral reviews and hence removing the same from our datastet\n",
    "print(data.head())\n",
    "print(data.shape)"
   ]
  },
  {
   "cell_type": "code",
   "execution_count": 4,
   "metadata": {},
   "outputs": [
    {
     "name": "stdout",
     "output_type": "stream",
     "text": [
      "original_data_shape =    COUNT(*)\n",
      "0    568454\n",
      "neutral_reviews_count =     count(*)\n",
      "0     42640\n",
      "(2, 10)\n"
     ]
    }
   ],
   "source": [
    "#count of rows having neutral rows\n",
    "print(\"original_data_shape =\",pd.read_sql_query('SELECT COUNT(*) FROM REVIEWS',conn))\n",
    "print(\"neutral_reviews_count = \",pd.read_sql_query('Select count(*) from REVIEWS WHERE SCORE=3',conn))\n",
    "\n",
    "#checking for redundancy where HelpFulnessNumerator is greater than HelpfulnessDenominator\n",
    "print(pd.read_sql_query('select  * from REVIEWS WHERE HelpFulnessNumerator>HelpFulnessDenominator',conn).shape)  \n",
    "conn.close()         #closing DB connection"
   ]
  },
  {
   "cell_type": "code",
   "execution_count": 5,
   "metadata": {},
   "outputs": [
    {
     "data": {
      "text/html": [
       "<div>\n",
       "<style scoped>\n",
       "    .dataframe tbody tr th:only-of-type {\n",
       "        vertical-align: middle;\n",
       "    }\n",
       "\n",
       "    .dataframe tbody tr th {\n",
       "        vertical-align: top;\n",
       "    }\n",
       "\n",
       "    .dataframe thead th {\n",
       "        text-align: right;\n",
       "    }\n",
       "</style>\n",
       "<table border=\"1\" class=\"dataframe\">\n",
       "  <thead>\n",
       "    <tr style=\"text-align: right;\">\n",
       "      <th></th>\n",
       "      <th>Id</th>\n",
       "      <th>ProductId</th>\n",
       "      <th>UserId</th>\n",
       "      <th>ProfileName</th>\n",
       "      <th>HelpfulnessNumerator</th>\n",
       "      <th>HelpfulnessDenominator</th>\n",
       "      <th>Score</th>\n",
       "      <th>Time</th>\n",
       "      <th>Summary</th>\n",
       "      <th>Text</th>\n",
       "    </tr>\n",
       "  </thead>\n",
       "  <tbody>\n",
       "    <tr>\n",
       "      <th>0</th>\n",
       "      <td>1</td>\n",
       "      <td>B001E4KFG0</td>\n",
       "      <td>A3SGXH7AUHU8GW</td>\n",
       "      <td>delmartian</td>\n",
       "      <td>1</td>\n",
       "      <td>1</td>\n",
       "      <td>1</td>\n",
       "      <td>1303862400</td>\n",
       "      <td>Good Quality Dog Food</td>\n",
       "      <td>I have bought several of the Vitality canned d...</td>\n",
       "    </tr>\n",
       "    <tr>\n",
       "      <th>1</th>\n",
       "      <td>2</td>\n",
       "      <td>B00813GRG4</td>\n",
       "      <td>A1D87F6ZCVE5NK</td>\n",
       "      <td>dll pa</td>\n",
       "      <td>0</td>\n",
       "      <td>0</td>\n",
       "      <td>0</td>\n",
       "      <td>1346976000</td>\n",
       "      <td>Not as Advertised</td>\n",
       "      <td>Product arrived labeled as Jumbo Salted Peanut...</td>\n",
       "    </tr>\n",
       "    <tr>\n",
       "      <th>2</th>\n",
       "      <td>3</td>\n",
       "      <td>B000LQOCH0</td>\n",
       "      <td>ABXLMWJIXXAIN</td>\n",
       "      <td>Natalia Corres \"Natalia Corres\"</td>\n",
       "      <td>1</td>\n",
       "      <td>1</td>\n",
       "      <td>1</td>\n",
       "      <td>1219017600</td>\n",
       "      <td>\"Delight\" says it all</td>\n",
       "      <td>This is a confection that has been around a fe...</td>\n",
       "    </tr>\n",
       "    <tr>\n",
       "      <th>3</th>\n",
       "      <td>4</td>\n",
       "      <td>B000UA0QIQ</td>\n",
       "      <td>A395BORC6FGVXV</td>\n",
       "      <td>Karl</td>\n",
       "      <td>3</td>\n",
       "      <td>3</td>\n",
       "      <td>0</td>\n",
       "      <td>1307923200</td>\n",
       "      <td>Cough Medicine</td>\n",
       "      <td>If you are looking for the secret ingredient i...</td>\n",
       "    </tr>\n",
       "    <tr>\n",
       "      <th>4</th>\n",
       "      <td>5</td>\n",
       "      <td>B006K2ZZ7K</td>\n",
       "      <td>A1UQRSCLF8GW1T</td>\n",
       "      <td>Michael D. Bigham \"M. Wassir\"</td>\n",
       "      <td>0</td>\n",
       "      <td>0</td>\n",
       "      <td>1</td>\n",
       "      <td>1350777600</td>\n",
       "      <td>Great taffy</td>\n",
       "      <td>Great taffy at a great price.  There was a wid...</td>\n",
       "    </tr>\n",
       "  </tbody>\n",
       "</table>\n",
       "</div>"
      ],
      "text/plain": [
       "   Id   ProductId          UserId                      ProfileName   \n",
       "0   1  B001E4KFG0  A3SGXH7AUHU8GW                       delmartian  \\\n",
       "1   2  B00813GRG4  A1D87F6ZCVE5NK                           dll pa   \n",
       "2   3  B000LQOCH0   ABXLMWJIXXAIN  Natalia Corres \"Natalia Corres\"   \n",
       "3   4  B000UA0QIQ  A395BORC6FGVXV                             Karl   \n",
       "4   5  B006K2ZZ7K  A1UQRSCLF8GW1T    Michael D. Bigham \"M. Wassir\"   \n",
       "\n",
       "   HelpfulnessNumerator  HelpfulnessDenominator  Score        Time   \n",
       "0                     1                       1      1  1303862400  \\\n",
       "1                     0                       0      0  1346976000   \n",
       "2                     1                       1      1  1219017600   \n",
       "3                     3                       3      0  1307923200   \n",
       "4                     0                       0      1  1350777600   \n",
       "\n",
       "                 Summary                                               Text  \n",
       "0  Good Quality Dog Food  I have bought several of the Vitality canned d...  \n",
       "1      Not as Advertised  Product arrived labeled as Jumbo Salted Peanut...  \n",
       "2  \"Delight\" says it all  This is a confection that has been around a fe...  \n",
       "3         Cough Medicine  If you are looking for the secret ingredient i...  \n",
       "4            Great taffy  Great taffy at a great price.  There was a wid...  "
      ]
     },
     "execution_count": 5,
     "metadata": {},
     "output_type": "execute_result"
    }
   ],
   "source": [
    "# score of > 3 is positive and <3 taken as negative\n",
    "def re_score(x):\n",
    "    if x < 3: \n",
    "        return 0\n",
    "    return 1\n",
    "\n",
    "data['Score'] = data['Score'].map(re_score)\n",
    "data.head() "
   ]
  },
  {
   "cell_type": "code",
   "execution_count": 6,
   "metadata": {},
   "outputs": [],
   "source": [
    "#kind = type of sorting (read np.sort)\n",
    "#position of null positions (na_postion) = first or last\n",
    "sorted_data = data.sort_values('ProductId',axis='index',ascending=True,kind='mergesort',na_position='last')"
   ]
  },
  {
   "cell_type": "code",
   "execution_count": 7,
   "metadata": {},
   "outputs": [
    {
     "data": {
      "text/plain": [
       "(524691, 10)"
      ]
     },
     "execution_count": 7,
     "metadata": {},
     "output_type": "execute_result"
    }
   ],
   "source": [
    "df = sorted_data.drop_duplicates(subset={\"ProductId\",\"UserId\",\"Time\",\"ProfileName\",\"Text\"},keep='first')\n",
    "df.shape"
   ]
  },
  {
   "cell_type": "code",
   "execution_count": 8,
   "metadata": {},
   "outputs": [
    {
     "data": {
      "text/plain": [
       "(524689, 10)"
      ]
     },
     "execution_count": 8,
     "metadata": {},
     "output_type": "execute_result"
    }
   ],
   "source": [
    "df = df[df['HelpfulnessNumerator']<=df['HelpfulnessDenominator']]  #two records were present\n",
    "df.shape"
   ]
  },
  {
   "cell_type": "code",
   "execution_count": 9,
   "metadata": {},
   "outputs": [
    {
     "data": {
      "text/html": [
       "<div>\n",
       "<style scoped>\n",
       "    .dataframe tbody tr th:only-of-type {\n",
       "        vertical-align: middle;\n",
       "    }\n",
       "\n",
       "    .dataframe tbody tr th {\n",
       "        vertical-align: top;\n",
       "    }\n",
       "\n",
       "    .dataframe thead th {\n",
       "        text-align: right;\n",
       "    }\n",
       "</style>\n",
       "<table border=\"1\" class=\"dataframe\">\n",
       "  <thead>\n",
       "    <tr style=\"text-align: right;\">\n",
       "      <th></th>\n",
       "      <th>Id</th>\n",
       "      <th>ProductId</th>\n",
       "      <th>UserId</th>\n",
       "      <th>ProfileName</th>\n",
       "      <th>HelpfulnessNumerator</th>\n",
       "      <th>HelpfulnessDenominator</th>\n",
       "      <th>Score</th>\n",
       "      <th>Time</th>\n",
       "      <th>Summary</th>\n",
       "      <th>Text</th>\n",
       "    </tr>\n",
       "  </thead>\n",
       "  <tbody>\n",
       "    <tr>\n",
       "      <th>138676</th>\n",
       "      <td>150493</td>\n",
       "      <td>0006641040</td>\n",
       "      <td>AMX0PJKV4PPNJ</td>\n",
       "      <td>E. R. Bird \"Ramseelbird\"</td>\n",
       "      <td>71</td>\n",
       "      <td>72</td>\n",
       "      <td>1</td>\n",
       "      <td>1096416000</td>\n",
       "      <td>Read it once. Read it twice. Reading Chicken S...</td>\n",
       "      <td>These days, when a person says, \"chicken soup\"...</td>\n",
       "    </tr>\n",
       "    <tr>\n",
       "      <th>138677</th>\n",
       "      <td>150494</td>\n",
       "      <td>0006641040</td>\n",
       "      <td>AYZ0PR5QZROD1</td>\n",
       "      <td>Mother of 3 girls</td>\n",
       "      <td>3</td>\n",
       "      <td>3</td>\n",
       "      <td>1</td>\n",
       "      <td>1173312000</td>\n",
       "      <td>Family favorite</td>\n",
       "      <td>All of my children love this book.  My first g...</td>\n",
       "    </tr>\n",
       "    <tr>\n",
       "      <th>138678</th>\n",
       "      <td>150496</td>\n",
       "      <td>0006641040</td>\n",
       "      <td>A3KKR87BJ0C595</td>\n",
       "      <td>Gretchen Goodfellow \"Lover of children's lit\"</td>\n",
       "      <td>3</td>\n",
       "      <td>3</td>\n",
       "      <td>1</td>\n",
       "      <td>1111363200</td>\n",
       "      <td>You'll use it once, you'll use it twice</td>\n",
       "      <td>One of my earliest memories is of this book.  ...</td>\n",
       "    </tr>\n",
       "    <tr>\n",
       "      <th>138679</th>\n",
       "      <td>150497</td>\n",
       "      <td>0006641040</td>\n",
       "      <td>A1HKYQOFC8ZZCH</td>\n",
       "      <td>Maria Apolloni \"lanarossa\"</td>\n",
       "      <td>2</td>\n",
       "      <td>2</td>\n",
       "      <td>0</td>\n",
       "      <td>1334707200</td>\n",
       "      <td>The story is great, the softcover book is disa...</td>\n",
       "      <td>I give five stars to the Maurice Sendak story....</td>\n",
       "    </tr>\n",
       "    <tr>\n",
       "      <th>138680</th>\n",
       "      <td>150498</td>\n",
       "      <td>0006641040</td>\n",
       "      <td>A3SJWISOCP31TR</td>\n",
       "      <td>R. J. Wells</td>\n",
       "      <td>2</td>\n",
       "      <td>2</td>\n",
       "      <td>1</td>\n",
       "      <td>1176336000</td>\n",
       "      <td>A Gem of a Book</td>\n",
       "      <td>This is a wonderful little book. I loved it 40...</td>\n",
       "    </tr>\n",
       "  </tbody>\n",
       "</table>\n",
       "</div>"
      ],
      "text/plain": [
       "            Id   ProductId          UserId   \n",
       "138676  150493  0006641040   AMX0PJKV4PPNJ  \\\n",
       "138677  150494  0006641040   AYZ0PR5QZROD1   \n",
       "138678  150496  0006641040  A3KKR87BJ0C595   \n",
       "138679  150497  0006641040  A1HKYQOFC8ZZCH   \n",
       "138680  150498  0006641040  A3SJWISOCP31TR   \n",
       "\n",
       "                                          ProfileName  HelpfulnessNumerator   \n",
       "138676                       E. R. Bird \"Ramseelbird\"                    71  \\\n",
       "138677                              Mother of 3 girls                     3   \n",
       "138678  Gretchen Goodfellow \"Lover of children's lit\"                     3   \n",
       "138679                     Maria Apolloni \"lanarossa\"                     2   \n",
       "138680                                    R. J. Wells                     2   \n",
       "\n",
       "        HelpfulnessDenominator  Score        Time   \n",
       "138676                      72      1  1096416000  \\\n",
       "138677                       3      1  1173312000   \n",
       "138678                       3      1  1111363200   \n",
       "138679                       2      0  1334707200   \n",
       "138680                       2      1  1176336000   \n",
       "\n",
       "                                                  Summary   \n",
       "138676  Read it once. Read it twice. Reading Chicken S...  \\\n",
       "138677                                    Family favorite   \n",
       "138678            You'll use it once, you'll use it twice   \n",
       "138679  The story is great, the softcover book is disa...   \n",
       "138680                                    A Gem of a Book   \n",
       "\n",
       "                                                     Text  \n",
       "138676  These days, when a person says, \"chicken soup\"...  \n",
       "138677  All of my children love this book.  My first g...  \n",
       "138678  One of my earliest memories is of this book.  ...  \n",
       "138679  I give five stars to the Maurice Sendak story....  \n",
       "138680  This is a wonderful little book. I loved it 40...  "
      ]
     },
     "execution_count": 9,
     "metadata": {},
     "output_type": "execute_result"
    }
   ],
   "source": [
    "df.head(5)"
   ]
  },
  {
   "cell_type": "code",
   "execution_count": 10,
   "metadata": {},
   "outputs": [
    {
     "name": "stdout",
     "output_type": "stream",
     "text": [
      "Id                        False\n",
      "ProductId                 False\n",
      "UserId                    False\n",
      "ProfileName               False\n",
      "HelpfulnessNumerator      False\n",
      "HelpfulnessDenominator    False\n",
      "Score                     False\n",
      "Time                      False\n",
      "Summary                   False\n",
      "Text                      False\n",
      "dtype: bool\n"
     ]
    }
   ],
   "source": [
    "# checking for redundant values\n",
    "print(df.isna().any())"
   ]
  },
  {
   "cell_type": "markdown",
   "metadata": {},
   "source": [
    "Text Preprocessing"
   ]
  },
  {
   "cell_type": "code",
   "execution_count": 11,
   "metadata": {},
   "outputs": [],
   "source": [
    "import re"
   ]
  },
  {
   "cell_type": "code",
   "execution_count": 12,
   "metadata": {},
   "outputs": [
    {
     "data": {
      "text/plain": [
       "'These days, when a person says, \"chicken soup\" they\\'re probably going to follow up those words with, \"for the soul\" or maybe \"for the teenaged soul\".  Didn\\'t used to be that way.  Why I can remember a time when if a person said, \"chicken soup\" those words were followed by an enthusiastic \"with rice!\".  Such was the power of Maurice Sendak\\'s catchy 1962 children\\'s book.  I am pleased to report that if you care to read this book again today, you will find it hasn\\'t dimished a jot in terms of frolicksome fun.  In this book we are led through a whirlwind chicken soup year with our host, a boy who bears no little resemblance to Sendak\\'s other great rhyming tale \"Pierre\" (in looks if not demeanor).  It\\'s a catchy flouncy bouncy combo of soup and the people who love it so.<br /><br />This is ostensibly a book meant to teach your children the different months of the year.  Each month gets its own rhythmic poem and accompanying illustration.  These are fairly simple pen and ink drawings with the occasional splash of blue (in varying shades), yellow, gray, and green.  You may wonder how an author could ever hope to come up with twelve highly original soup-related poems.  I mean, honestly, how much is there to say about even the fanciest soup, let alone chicken soup with rice?  Quite a lot, as it happens.  In the cold winter months soup is supped while sliding on ice, while celebrating the birthday of a snowman, and in a gusty gale as a whale.  In the spring there\\'s robin\\'s nest soup, soup to cure drooping roses, and soup stolen by jealous March winds.  Our hero postulates the potential joys that could come of being a cooking pot, stewing soup or (oddly enough) as \"a baubled bangled Christmas tree\".<br /><br />Not to degrade the reading skills of parents everywhere, but I cannot recommend enough getting an audio version of this tale to accompany your child\\'s reading.  Though I am now a wise and cultured 26 year-old (the years have been kind to me in this, my old age) I can still remember the chicken soup with rice tune.  Heck, I read this entire book recently and found I could do the song perfectly with each and every line.  Now maybe you have your own particular chicken soup with rice song style that you\\'re just loathe to give up.  If so, fine.  I understand why you might not want to taint your already existing chicken soup melody.  But if you haven\\'t found a jingle to accompany this book, get the audio version immediately, if not sooner.  Until you can sing \"Whoopy once, whoopy twice, whoopy chicken soup with rice\" with the correct oomph, you\\'re missing out.<br /><br />I take my \"Chicken Soup With Rice\" readings seriously.  This book was the \"Chicka Chicka Boom Boom\" of its day, and still remains the catchiest method to teach kids the months of the year.  It is also seriously in danger of being forgotten.  So pull out your old accordion and strap on your dancing shoes.  The time for yukkin\\' it up to a merry dance of poultry broth is here.  It\\'s Sendak at his finest.'"
      ]
     },
     "execution_count": 12,
     "metadata": {},
     "output_type": "execute_result"
    }
   ],
   "source": [
    "text1 = df['Text'].values[0]\n",
    "text1"
   ]
  },
  {
   "cell_type": "code",
   "execution_count": 13,
   "metadata": {},
   "outputs": [
    {
     "data": {
      "text/plain": [
       "' is my favourite web'"
      ]
     },
     "execution_count": 13,
     "metadata": {},
     "output_type": "execute_result"
    }
   ],
   "source": [
    "#removing URLs from text\n",
    "text0  = \"www.pornhub is my favourite web\"\n",
    "text0 = re.sub(r'http\\S+','',text0)\n",
    "text0 = re.sub(r'www\\S+','',text0)\n",
    "text0"
   ]
  },
  {
   "cell_type": "code",
   "execution_count": 14,
   "metadata": {},
   "outputs": [
    {
     "data": {
      "text/plain": [
       "\"We have used the Victor fly bait for 3 seasons.  Can't beat it.  Great product!\""
      ]
     },
     "execution_count": 14,
     "metadata": {},
     "output_type": "execute_result"
    }
   ],
   "source": [
    "#removing HTML tags\n",
    "from bs4 import BeautifulSoup\n",
    "text2 = \"<html><body><p>We have used the Victor fly bait for 3 seasons.  Can't beat it.  Great product!</p></body></html>\"\n",
    "text2 = BeautifulSoup(text2).get_text()\n",
    "text2\n"
   ]
  },
  {
   "cell_type": "code",
   "execution_count": 15,
   "metadata": {},
   "outputs": [],
   "source": [
    "\n",
    "#Removing special character and punctuations\n",
    "# text1 = '''These days, when a person says, \"chicken soup\" they\\'re \n",
    "# probably going to follow up those words with, \"for the soul\" or maybe \"for the teenaged soul\".  \n",
    "# Didn\\'t used to be that way.  Why I can remember a time when if a person said, \"chicken soup\" \n",
    "# those words were followed by an enthusiastic \"with rice!\".  Such was the power of Maurice Sendak\\'s catchy \n",
    "# 1962 children\\'s book.  I am pleased to report that if you care to read this book again today, \n",
    "# you will find it hasn\\'t dimished a jot in terms of frolicksome fun.  \n",
    "# In this book we are led through a whirlwind chicken soup year with our host, \n",
    "# a boy who bears no little resemblance to Sendak\\'s other great rhyming tale \"Pierre\" (in looks if not demeanor).  \n",
    "# It\\'s a catchy flouncy bouncy combo of soup and the people who love it so.<br /><br />This is ostensibly a book \n",
    "# meant to teach your children the different months of the year.  Each month gets its own rhythmic poem and accompanying illustration.  \n",
    "# These are fairly simple pen and ink drawings with the occasional splash of blue (in varying shades), yellow, gray, and green.  \n",
    "# You may wonder how an author could ever hope to come up with twelve highly original soup-related poems.  I mean, honestly, how much \n",
    "# is there to say about even the fanciest soup, let alone chicken soup with rice?  Quite a lot, as it happens.  In the cold winter\n",
    "#  months soup is supped while sliding on ice, while celebrating the birthday of a snowman, and in a gusty gale as a whale. \n",
    "#    In the spring there\\'s robin\\'s nest soup, soup to cure drooping roses, and soup stolen by jealous March winds.  \n",
    "#    Our hero postulates the potential joys that could come of being a cooking pot, stewing soup or (oddly enough) as \n",
    "#    \"a baubled bangled Christmas tree\".<br /><br />Not to degrade the reading skills of parents everywhere,\n",
    "#      but I cannot recommend enough getting an audio version of this tale to accompany your child\\'s reading. \n",
    "#        Though I am now a wise and cultured 26 year-old (the years have been kind to me in this, my old age)\n",
    "#          I can still remember the chicken soup with rice tune.  Heck, I read this entire book recently and \n",
    "#          found I could do the song perfectly with each and every line.  Now maybe you have your own particular chicken soup with rice song style that\n",
    "#            you\\'re just loathe to give up.  If so, fine.  I understand why you might not want to taint your already existing chicken soup melody.\n",
    "#                But if you haven\\'t found a jingle to accompany this book, get the audio version immediately,\n",
    "#                  if not sooner.  Until you can sing \"Whoopy once, whoopy twice, whoopy chicken soup with rice\" with the correct oomph,\n",
    "#                    you\\'re missing out.<br /><br />I take my \"Chicken Soup With Rice\" readings seriously. \n",
    "#                      This book was the \"Chicka Chicka Boom Boom\" of its day, and still remains the catchiest method to teach kids the months of the year.  \n",
    "#                      It is also seriously in danger of being forgotten.  So pull out your old accordion and strap on your dancing shoes.  \n",
    "#                      The time for yukkin\\' it up to a merry dance of poultry broth is here.  It\\'s Sendak at his finest.'''\n",
    "\n",
    "# text1 = re.sub('[^A-Za-z0-9]+',' ',text1)\n",
    "# text1"
   ]
  },
  {
   "cell_type": "code",
   "execution_count": 16,
   "metadata": {},
   "outputs": [],
   "source": [
    "#removing alpha-numeric characters\n",
    "# text2 = re.sub('\\S*\\d\\S*','',text2)\n",
    "# text2"
   ]
  },
  {
   "cell_type": "code",
   "execution_count": 17,
   "metadata": {},
   "outputs": [],
   "source": [
    "#performing decontraction\n",
    "def decontraction(phrase):\n",
    "    phrase = re.sub(r\"won't\",\"will not\",phrase)\n",
    "    phrase = re.sub(r\"can't\",\"can not\",phrase)\n",
    "    phrase = re.sub(r\"n't\",\"not\",phrase)\n",
    "    phrase = re.sub(r\"\\'re\",\"are\",phrase)\n",
    "    phrase = re.sub(r\"\\'s\",\" is\",phrase)\n",
    "    phrase = re.sub(r\"\\'d\",\" would\",phrase)\n",
    "    phrase = re.sub(r\"\\'ll\",\" will\",phrase)\n",
    "    phrase = re.sub(r\"\\'t\",\" not\",phrase)\n",
    "    phrase = re.sub(r\"\\'ve\",\" have\",phrase)\n",
    "    phrase = re.sub(r\"\\'m\",\" am\",phrase)\n",
    "    return phrase\n"
   ]
  },
  {
   "cell_type": "code",
   "execution_count": 18,
   "metadata": {},
   "outputs": [],
   "source": [
    "# text4 = 'Mrs. May\\'s pumpkin crunch is a great snack. For those of you watching calories and intake, be aware that the 2oz portions are two servings. Most of Mrs. May\\'s products are great, but with the fat at 11g per serving, i find it\\'s not a complete guilt free snack. However, the pumpkin seed crunch has 9gms of protein per serving vs. the usual 4gms in their other snacks. So if you\\'re monitoring your intake and want to indulge in these now and then, the pumpkin seed crunch is the healthiest option of the bunch.<br /><br />That said, they are all tasty and certainly not bad for you, just a little high in fat if you\\'re watching your weight.'\n",
    "# print(decontraction(text4))"
   ]
  },
  {
   "cell_type": "code",
   "execution_count": 19,
   "metadata": {},
   "outputs": [],
   "source": [
    "# # converting texts into lower case\n",
    "# def lower_case(phrase):\n",
    "#     phrase = ''.join(i.lower() for i in phrase)\n",
    "#     return phrase\n",
    "\n",
    "# print(lower_case(text4))"
   ]
  },
  {
   "cell_type": "code",
   "execution_count": 20,
   "metadata": {},
   "outputs": [],
   "source": [
    "#removing stopwords\n",
    "\n",
    "import nltk \n",
    "from nltk.corpus import stopwords\n",
    "stopwords = stopwords.words('english')\n",
    "def remove_stop_words(phrase):\n",
    "    phrase  = \" \".join(i for i in phrase.split() if i.lower() not in stopwords)\n",
    "    return phrase\n",
    "\n",
    "# print(remove_stop_words(text4))"
   ]
  },
  {
   "cell_type": "code",
   "execution_count": 21,
   "metadata": {},
   "outputs": [],
   "source": [
    "#stemming words\n",
    "from nltk.stem import SnowballStemmer\n",
    "stemmer = SnowballStemmer('english')\n"
   ]
  },
  {
   "cell_type": "code",
   "execution_count": 23,
   "metadata": {},
   "outputs": [
    {
     "name": "stderr",
     "output_type": "stream",
     "text": [
      "100%|██████████| 524689/524689 [06:44<00:00, 1297.69it/s]\n"
     ]
    }
   ],
   "source": [
    "#single block to perform all text-preprocessing\n",
    "from tqdm import tqdm\n",
    "\n",
    "corpus = []\n",
    "for review in tqdm(df['Text'].values) :\n",
    "    review = re.sub(r'http\\S+','',review)\n",
    "    review = re.sub(r'www\\S+','',review)\n",
    "    review = re.sub('[^A-Za-z0-9]+',\" \",review)\n",
    "    review = BeautifulSoup(review).get_text()\n",
    "    review = re.sub('\\S*\\d\\S*',' ',review)\n",
    "    review = ' '.join(i.lower() for i in review.split() if i.lower() not in stopwords)\n",
    "    review = decontraction(review)\n",
    "    review = ' '.join(stemmer.stem(i) for i in review.split())\n",
    "    corpus.append(review)\n",
    "\n"
   ]
  },
  {
   "cell_type": "code",
   "execution_count": 153,
   "metadata": {},
   "outputs": [
    {
     "name": "stderr",
     "output_type": "stream",
     "text": [
      "100%|██████████| 524689/524689 [02:36<00:00, 3351.56it/s]\n"
     ]
    }
   ],
   "source": [
    "# corpus = []\n",
    "# for review in tqdm(df['Text'].values) :\n",
    "#     review = re.sub(r'http\\S+','',review)\n",
    "#     review = re.sub(r'www\\S+','',review)\n",
    "#     review = re.sub('[^A-Za-z0-9]+',\" \",review)\n",
    "#     review = BeautifulSoup(review).get_text()\n",
    "#     review = re.sub('\\S*\\d\\S*',' ',review)\n",
    "#     review = ' '.join(i.lower() for i in review.split() if i.lower() not in stopwords)\n",
    "#     review = decontraction(review)\n",
    "#     # review = ' '.join(stemmer.stem(i) for i in review.split())\n",
    "#     corpus.append(review)\n"
   ]
  },
  {
   "cell_type": "code",
   "execution_count": 24,
   "metadata": {},
   "outputs": [
    {
     "data": {
      "text/plain": [
       "'whole idea keep flea hous invad tri everi thing spray power name temporari solut best best respons invas trap invad trap flea remov trap kid yes trap work remov flea dead chemic flea get hous prefer kill resid hous tri trap br br mike'"
      ]
     },
     "execution_count": 24,
     "metadata": {},
     "output_type": "execute_result"
    }
   ],
   "source": [
    "corpus[999]"
   ]
  },
  {
   "cell_type": "markdown",
   "metadata": {},
   "source": [
    "Vectorization"
   ]
  },
  {
   "cell_type": "markdown",
   "metadata": {},
   "source": [
    "1. Bag of Words"
   ]
  },
  {
   "cell_type": "code",
   "execution_count": 25,
   "metadata": {},
   "outputs": [],
   "source": [
    "from sklearn.feature_extraction.text import CountVectorizer\n",
    "\n",
    "def bag_of_words(data):\n",
    "    bow = CountVectorizer()\n",
    "    return bow.fit(data)\n",
    "    "
   ]
  },
  {
   "cell_type": "markdown",
   "metadata": {},
   "source": [
    "2. TF-IDF"
   ]
  },
  {
   "cell_type": "code",
   "execution_count": 26,
   "metadata": {},
   "outputs": [],
   "source": [
    "from sklearn.feature_extraction.text import TfidfVectorizer\n",
    "\n",
    "def tf_idf(data):\n",
    "    cv= TfidfVectorizer()\n",
    "    return cv.fit(data)\n",
    "\n",
    "\n",
    "#https://datascience.stackexchange.com/questions/12321/difference-between-fit-and-fit-transform-in-scikit-learn-models"
   ]
  },
  {
   "cell_type": "markdown",
   "metadata": {},
   "source": [
    "3.  Word2vec"
   ]
  },
  {
   "cell_type": "code",
   "execution_count": 27,
   "metadata": {},
   "outputs": [],
   "source": [
    "from gensim.models import Word2Vec\n",
    "#for word2vec , data is required as list of lists\n",
    "#more the data, better is the performance\n",
    "# http://kavita-ganesan.com/gensim-word2vec-tutorial-starter-code/#.XR0cft9fiXJ\n",
    "\n",
    "\n",
    "ds = []\n",
    "for e in corpus:\n",
    "    ds.append(e.split(' '))\n",
    "\n",
    "model = Word2Vec(ds,vector_size=150,window=25,min_count=2)    \n",
    "# size is number of dimensions of vector that you want to build\n",
    "# window is the maximum distance between two similar words\n",
    "# min_count is the minimum number of times the word must appear in corpus\n",
    "# workers is the numbers of cpu that you want to use"
   ]
  },
  {
   "cell_type": "code",
   "execution_count": 28,
   "metadata": {},
   "outputs": [
    {
     "data": {
      "text/plain": [
       "gensim.models.word2vec.Word2Vec"
      ]
     },
     "execution_count": 28,
     "metadata": {},
     "output_type": "execute_result"
    }
   ],
   "source": [
    "type(model)"
   ]
  },
  {
   "cell_type": "code",
   "execution_count": 31,
   "metadata": {},
   "outputs": [
    {
     "name": "stdout",
     "output_type": "stream",
     "text": [
      "[('heat', 0.5280380249023438), ('warm', 0.5267618894577026), ('spicey', 0.4505113661289215), ('hotter', 0.44809794425964355), ('tobasco', 0.4477368891239166), ('cold', 0.4477030038833618), ('hottest', 0.4324588477611542), ('spiciest', 0.4288228452205658), ('kesar', 0.4284977316856384), ('hotsauc', 0.41397127509117126)]\n"
     ]
    }
   ],
   "source": [
    "w1 = 'hot'\n",
    "print(model.wv.most_similar(w1))"
   ]
  },
  {
   "cell_type": "code",
   "execution_count": 33,
   "metadata": {},
   "outputs": [
    {
     "name": "stdout",
     "output_type": "stream",
     "text": [
      "[ 1.321804   -1.4299887  -0.50470334  2.822866   -1.9297407   2.524284\n",
      "  0.5868802  -2.608637    1.0385221   2.3997345   1.7594752   0.9020148\n",
      "  2.1739986   1.3392415   1.0462416  -1.0565667  -0.12358692  2.2723043\n",
      "  2.3906474   0.59698945  0.8223713   0.8823528  -2.2994554   3.4944494\n",
      " -0.9782466  -0.99983686  0.38015124 -0.6163857   1.3811598  -0.7938637\n",
      " -1.5439202  -0.9936711   2.4911823  -0.38046962 -0.8290098   0.9464108\n",
      "  0.61268705 -1.221799   -5.237058    1.5755296  -0.66747874 -0.31991908\n",
      " -0.8811557   1.5913005  -0.8251669  -0.5456122   0.76949716 -2.8592975\n",
      " -2.673991    1.974981   -0.17506124  1.524496    2.4258711  -4.517895\n",
      " -1.2311157   1.8715397  -0.17031655  1.4157583   0.11759083  0.63736933\n",
      "  1.2069964  -1.0731347   2.6334758   1.9463329   0.3597584  -2.2332835\n",
      " -0.6696185  -2.8144088   0.42790574  0.24060905 -1.6640558   0.94563293\n",
      " -1.4106219   5.1571007  -2.7481146  -1.484586   -0.97233564 -3.178281\n",
      " -2.3011608   0.9279654   1.0441742  -2.6237488  -1.6940354  -2.7962463\n",
      " -0.21942253  0.46748525  1.2026539  -1.5421461   1.9163661  -0.47632745\n",
      " -0.7150777   0.32778993  1.5277479  -0.47642565 -0.8980938   2.0401661\n",
      "  0.7111757   0.6716985  -1.8948011   0.22974694 -1.2403879   2.182952\n",
      " -0.22789416  1.020355    0.9898051  -0.3253307   0.15575437  0.02159651\n",
      " -2.0536938   1.1100029   1.8281256   2.2770913  -0.9865731   0.25488156\n",
      "  0.19760846 -0.24682166 -2.001104    1.1242676  -0.7963417  -0.40267548\n",
      "  1.2035631  -1.1750405  -0.5516626   0.698611   -2.1649942  -0.35744876\n",
      " -1.0051242   2.529556    0.36734873 -1.3296634   0.47450364 -2.9678\n",
      "  0.40409636  1.4909291   0.67859864 -2.1418977   0.2103861   0.1624967\n",
      " -1.3110555  -0.16625425  1.6438987   1.1001172   1.6046584   2.3770945\n",
      "  0.34942418  0.6136455   0.01635855 -0.7542469   1.2644838   0.01465941]\n"
     ]
    }
   ],
   "source": [
    "print(model.wv['tasti'])"
   ]
  },
  {
   "cell_type": "markdown",
   "metadata": {},
   "source": [
    "Applying Logistic Regression"
   ]
  },
  {
   "cell_type": "code",
   "execution_count": 34,
   "metadata": {},
   "outputs": [],
   "source": [
    "from sklearn.linear_model import LogisticRegression\n",
    "from sklearn.metrics import accuracy_score\n",
    "from sklearn.metrics import confusion_matrix\n",
    "import seaborn as sns\n",
    "from sklearn.model_selection import train_test_split\n"
   ]
  },
  {
   "cell_type": "code",
   "execution_count": 35,
   "metadata": {},
   "outputs": [
    {
     "name": "stdout",
     "output_type": "stream",
     "text": [
      "(524689, 10)\n",
      "Score\n",
      "1    442966\n",
      "0     81723\n",
      "Name: count, dtype: int64\n"
     ]
    }
   ],
   "source": [
    "preprocessed_df = df.copy()\n",
    "preprocessed_df['Text'] = corpus\n",
    "print(preprocessed_df.shape)\n",
    "print(preprocessed_df['Score'].value_counts())\n"
   ]
  },
  {
   "cell_type": "code",
   "execution_count": 36,
   "metadata": {},
   "outputs": [
    {
     "data": {
      "text/html": [
       "<div>\n",
       "<style scoped>\n",
       "    .dataframe tbody tr th:only-of-type {\n",
       "        vertical-align: middle;\n",
       "    }\n",
       "\n",
       "    .dataframe tbody tr th {\n",
       "        vertical-align: top;\n",
       "    }\n",
       "\n",
       "    .dataframe thead th {\n",
       "        text-align: right;\n",
       "    }\n",
       "</style>\n",
       "<table border=\"1\" class=\"dataframe\">\n",
       "  <thead>\n",
       "    <tr style=\"text-align: right;\">\n",
       "      <th></th>\n",
       "      <th>Id</th>\n",
       "      <th>ProductId</th>\n",
       "      <th>UserId</th>\n",
       "      <th>ProfileName</th>\n",
       "      <th>HelpfulnessNumerator</th>\n",
       "      <th>HelpfulnessDenominator</th>\n",
       "      <th>Score</th>\n",
       "      <th>Time</th>\n",
       "      <th>Summary</th>\n",
       "      <th>Text</th>\n",
       "    </tr>\n",
       "  </thead>\n",
       "  <tbody>\n",
       "    <tr>\n",
       "      <th>138676</th>\n",
       "      <td>150493</td>\n",
       "      <td>0006641040</td>\n",
       "      <td>AMX0PJKV4PPNJ</td>\n",
       "      <td>E. R. Bird \"Ramseelbird\"</td>\n",
       "      <td>71</td>\n",
       "      <td>72</td>\n",
       "      <td>1</td>\n",
       "      <td>1096416000</td>\n",
       "      <td>Read it once. Read it twice. Reading Chicken S...</td>\n",
       "      <td>day person say chicken soup probabl go follow ...</td>\n",
       "    </tr>\n",
       "    <tr>\n",
       "      <th>138677</th>\n",
       "      <td>150494</td>\n",
       "      <td>0006641040</td>\n",
       "      <td>AYZ0PR5QZROD1</td>\n",
       "      <td>Mother of 3 girls</td>\n",
       "      <td>3</td>\n",
       "      <td>3</td>\n",
       "      <td>1</td>\n",
       "      <td>1173312000</td>\n",
       "      <td>Family favorite</td>\n",
       "      <td>children love book first grader got christma l...</td>\n",
       "    </tr>\n",
       "    <tr>\n",
       "      <th>138678</th>\n",
       "      <td>150496</td>\n",
       "      <td>0006641040</td>\n",
       "      <td>A3KKR87BJ0C595</td>\n",
       "      <td>Gretchen Goodfellow \"Lover of children's lit\"</td>\n",
       "      <td>3</td>\n",
       "      <td>3</td>\n",
       "      <td>1</td>\n",
       "      <td>1111363200</td>\n",
       "      <td>You'll use it once, you'll use it twice</td>\n",
       "      <td>one earliest memori book mother read us consta...</td>\n",
       "    </tr>\n",
       "    <tr>\n",
       "      <th>138679</th>\n",
       "      <td>150497</td>\n",
       "      <td>0006641040</td>\n",
       "      <td>A1HKYQOFC8ZZCH</td>\n",
       "      <td>Maria Apolloni \"lanarossa\"</td>\n",
       "      <td>2</td>\n",
       "      <td>2</td>\n",
       "      <td>0</td>\n",
       "      <td>1334707200</td>\n",
       "      <td>The story is great, the softcover book is disa...</td>\n",
       "      <td>give five star mauric sendak stori one star pr...</td>\n",
       "    </tr>\n",
       "    <tr>\n",
       "      <th>138680</th>\n",
       "      <td>150498</td>\n",
       "      <td>0006641040</td>\n",
       "      <td>A3SJWISOCP31TR</td>\n",
       "      <td>R. J. Wells</td>\n",
       "      <td>2</td>\n",
       "      <td>2</td>\n",
       "      <td>1</td>\n",
       "      <td>1176336000</td>\n",
       "      <td>A Gem of a Book</td>\n",
       "      <td>wonder littl book love year ago twin love enjo...</td>\n",
       "    </tr>\n",
       "  </tbody>\n",
       "</table>\n",
       "</div>"
      ],
      "text/plain": [
       "            Id   ProductId          UserId   \n",
       "138676  150493  0006641040   AMX0PJKV4PPNJ  \\\n",
       "138677  150494  0006641040   AYZ0PR5QZROD1   \n",
       "138678  150496  0006641040  A3KKR87BJ0C595   \n",
       "138679  150497  0006641040  A1HKYQOFC8ZZCH   \n",
       "138680  150498  0006641040  A3SJWISOCP31TR   \n",
       "\n",
       "                                          ProfileName  HelpfulnessNumerator   \n",
       "138676                       E. R. Bird \"Ramseelbird\"                    71  \\\n",
       "138677                              Mother of 3 girls                     3   \n",
       "138678  Gretchen Goodfellow \"Lover of children's lit\"                     3   \n",
       "138679                     Maria Apolloni \"lanarossa\"                     2   \n",
       "138680                                    R. J. Wells                     2   \n",
       "\n",
       "        HelpfulnessDenominator  Score        Time   \n",
       "138676                      72      1  1096416000  \\\n",
       "138677                       3      1  1173312000   \n",
       "138678                       3      1  1111363200   \n",
       "138679                       2      0  1334707200   \n",
       "138680                       2      1  1176336000   \n",
       "\n",
       "                                                  Summary   \n",
       "138676  Read it once. Read it twice. Reading Chicken S...  \\\n",
       "138677                                    Family favorite   \n",
       "138678            You'll use it once, you'll use it twice   \n",
       "138679  The story is great, the softcover book is disa...   \n",
       "138680                                    A Gem of a Book   \n",
       "\n",
       "                                                     Text  \n",
       "138676  day person say chicken soup probabl go follow ...  \n",
       "138677  children love book first grader got christma l...  \n",
       "138678  one earliest memori book mother read us consta...  \n",
       "138679  give five star mauric sendak stori one star pr...  \n",
       "138680  wonder littl book love year ago twin love enjo...  "
      ]
     },
     "execution_count": 36,
     "metadata": {},
     "output_type": "execute_result"
    }
   ],
   "source": [
    "preprocessed_df.head()"
   ]
  },
  {
   "cell_type": "code",
   "execution_count": 5,
   "metadata": {},
   "outputs": [
    {
     "ename": "NameError",
     "evalue": "name 'train_test_split' is not defined",
     "output_type": "error",
     "traceback": [
      "\u001b[1;31m---------------------------------------------------------------------------\u001b[0m",
      "\u001b[1;31mNameError\u001b[0m                                 Traceback (most recent call last)",
      "Cell \u001b[1;32mIn[5], line 1\u001b[0m\n\u001b[1;32m----> 1\u001b[0m train_data , test_data \u001b[38;5;241m=\u001b[39m \u001b[43mtrain_test_split\u001b[49m(preprocessed_df,random_state\u001b[38;5;241m=\u001b[39m\u001b[38;5;241m20\u001b[39m,test_size\u001b[38;5;241m=\u001b[39m\u001b[38;5;241m0.25\u001b[39m)\n",
      "\u001b[1;31mNameError\u001b[0m: name 'train_test_split' is not defined"
     ]
    }
   ],
   "source": [
    "train_data , test_data = train_test_split(preprocessed_df,random_state=20,test_size=0.25)"
   ]
  },
  {
   "cell_type": "markdown",
   "metadata": {},
   "source": [
    "Logistic Regression on BOW"
   ]
  },
  {
   "cell_type": "code",
   "execution_count": 4,
   "metadata": {},
   "outputs": [
    {
     "ename": "NameError",
     "evalue": "name 'bag_of_words' is not defined",
     "output_type": "error",
     "traceback": [
      "\u001b[1;31m---------------------------------------------------------------------------\u001b[0m",
      "\u001b[1;31mNameError\u001b[0m                                 Traceback (most recent call last)",
      "Cell \u001b[1;32mIn[4], line 1\u001b[0m\n\u001b[1;32m----> 1\u001b[0m bow \u001b[38;5;241m=\u001b[39m \u001b[43mbag_of_words\u001b[49m(train_data[\u001b[38;5;124m'\u001b[39m\u001b[38;5;124mText\u001b[39m\u001b[38;5;124m'\u001b[39m])\n\u001b[0;32m      2\u001b[0m train_data_bow \u001b[38;5;241m=\u001b[39m bow\u001b[38;5;241m.\u001b[39mtransform(train_data[\u001b[38;5;124m'\u001b[39m\u001b[38;5;124mText\u001b[39m\u001b[38;5;124m'\u001b[39m])\n\u001b[0;32m      3\u001b[0m test_data_bow \u001b[38;5;241m=\u001b[39m bow\u001b[38;5;241m.\u001b[39mtransform(test_data[\u001b[38;5;124m'\u001b[39m\u001b[38;5;124mText\u001b[39m\u001b[38;5;124m'\u001b[39m])\n",
      "\u001b[1;31mNameError\u001b[0m: name 'bag_of_words' is not defined"
     ]
    }
   ],
   "source": [
    "bow = bag_of_words(train_data['Text'])\n",
    "train_data_bow = bow.transform(train_data['Text'])\n",
    "test_data_bow = bow.transform(test_data['Text'])"
   ]
  },
  {
   "cell_type": "code",
   "execution_count": 3,
   "metadata": {},
   "outputs": [
    {
     "ename": "NameError",
     "evalue": "name 'bow' is not defined",
     "output_type": "error",
     "traceback": [
      "\u001b[1;31m---------------------------------------------------------------------------\u001b[0m",
      "\u001b[1;31mNameError\u001b[0m                                 Traceback (most recent call last)",
      "Cell \u001b[1;32mIn[3], line 2\u001b[0m\n\u001b[0;32m      1\u001b[0m s \u001b[38;5;241m=\u001b[39m [\u001b[38;5;124m'\u001b[39m\u001b[38;5;124mwhole idea keep flea hous invad tri everi thing spray power name temporari solut best best respons invas trap invad trap flea remov trap kid yes trap work remov flea dead chemic flea get hous prefer kill resid hous tri trap br br mike\u001b[39m\u001b[38;5;124m'\u001b[39m]\n\u001b[1;32m----> 2\u001b[0m x \u001b[38;5;241m=\u001b[39m \u001b[43mbow\u001b[49m\u001b[38;5;241m.\u001b[39mtransform(s)\n",
      "\u001b[1;31mNameError\u001b[0m: name 'bow' is not defined"
     ]
    }
   ],
   "source": [
    "s = ['whole idea keep flea hous invad tri everi thing spray power name temporari solut best best respons invas trap invad trap flea remov trap kid yes trap work remov flea dead chemic flea get hous prefer kill resid hous tri trap br br mike']\n",
    "x = bow.transform(s)"
   ]
  },
  {
   "cell_type": "code",
   "execution_count": 2,
   "metadata": {},
   "outputs": [
    {
     "ename": "NameError",
     "evalue": "name 'x' is not defined",
     "output_type": "error",
     "traceback": [
      "\u001b[1;31m---------------------------------------------------------------------------\u001b[0m",
      "\u001b[1;31mNameError\u001b[0m                                 Traceback (most recent call last)",
      "Cell \u001b[1;32mIn[2], line 1\u001b[0m\n\u001b[1;32m----> 1\u001b[0m y \u001b[38;5;241m=\u001b[39m \u001b[43mx\u001b[49m\u001b[38;5;241m.\u001b[39mtoarray()\n",
      "\u001b[1;31mNameError\u001b[0m: name 'x' is not defined"
     ]
    }
   ],
   "source": [
    "y = x.toarray()"
   ]
  },
  {
   "cell_type": "code",
   "execution_count": 1,
   "metadata": {},
   "outputs": [
    {
     "ename": "NameError",
     "evalue": "name 'train_data_bow' is not defined",
     "output_type": "error",
     "traceback": [
      "\u001b[1;31m---------------------------------------------------------------------------\u001b[0m",
      "\u001b[1;31mNameError\u001b[0m                                 Traceback (most recent call last)",
      "Cell \u001b[1;32mIn[1], line 1\u001b[0m\n\u001b[1;32m----> 1\u001b[0m \u001b[38;5;28mprint\u001b[39m(\u001b[43mtrain_data_bow\u001b[49m\u001b[38;5;241m.\u001b[39mshape, train_data[\u001b[38;5;124m'\u001b[39m\u001b[38;5;124mScore\u001b[39m\u001b[38;5;124m'\u001b[39m]\u001b[38;5;241m.\u001b[39mshape)\n\u001b[0;32m      2\u001b[0m \u001b[38;5;28mprint\u001b[39m(test_data_bow\u001b[38;5;241m.\u001b[39mshape)\n\u001b[0;32m      3\u001b[0m \u001b[38;5;28mprint\u001b[39m(train_data[\u001b[38;5;124m'\u001b[39m\u001b[38;5;124mScore\u001b[39m\u001b[38;5;124m'\u001b[39m]\u001b[38;5;241m.\u001b[39mvalue_counts())\n",
      "\u001b[1;31mNameError\u001b[0m: name 'train_data_bow' is not defined"
     ]
    }
   ],
   "source": [
    "print(train_data_bow.shape, train_data['Score'].shape)\n",
    "print(test_data_bow.shape)\n",
    "print(train_data['Score'].value_counts())"
   ]
  },
  {
   "cell_type": "code",
   "execution_count": 84,
   "metadata": {},
   "outputs": [],
   "source": [
    "#Normalizing data\n",
    "from sklearn.preprocessing import Normalizer\n",
    "train_data_bow_n = Normalizer().fit_transform(train_data_bow)\n",
    "test_data_bow_n  = Normalizer().fit_transform(test_data_bow)"
   ]
  },
  {
   "cell_type": "code",
   "execution_count": 85,
   "metadata": {},
   "outputs": [
    {
     "data": {
      "text/html": [
       "<style>#sk-container-id-7 {color: black;}#sk-container-id-7 pre{padding: 0;}#sk-container-id-7 div.sk-toggleable {background-color: white;}#sk-container-id-7 label.sk-toggleable__label {cursor: pointer;display: block;width: 100%;margin-bottom: 0;padding: 0.3em;box-sizing: border-box;text-align: center;}#sk-container-id-7 label.sk-toggleable__label-arrow:before {content: \"▸\";float: left;margin-right: 0.25em;color: #696969;}#sk-container-id-7 label.sk-toggleable__label-arrow:hover:before {color: black;}#sk-container-id-7 div.sk-estimator:hover label.sk-toggleable__label-arrow:before {color: black;}#sk-container-id-7 div.sk-toggleable__content {max-height: 0;max-width: 0;overflow: hidden;text-align: left;background-color: #f0f8ff;}#sk-container-id-7 div.sk-toggleable__content pre {margin: 0.2em;color: black;border-radius: 0.25em;background-color: #f0f8ff;}#sk-container-id-7 input.sk-toggleable__control:checked~div.sk-toggleable__content {max-height: 200px;max-width: 100%;overflow: auto;}#sk-container-id-7 input.sk-toggleable__control:checked~label.sk-toggleable__label-arrow:before {content: \"▾\";}#sk-container-id-7 div.sk-estimator input.sk-toggleable__control:checked~label.sk-toggleable__label {background-color: #d4ebff;}#sk-container-id-7 div.sk-label input.sk-toggleable__control:checked~label.sk-toggleable__label {background-color: #d4ebff;}#sk-container-id-7 input.sk-hidden--visually {border: 0;clip: rect(1px 1px 1px 1px);clip: rect(1px, 1px, 1px, 1px);height: 1px;margin: -1px;overflow: hidden;padding: 0;position: absolute;width: 1px;}#sk-container-id-7 div.sk-estimator {font-family: monospace;background-color: #f0f8ff;border: 1px dotted black;border-radius: 0.25em;box-sizing: border-box;margin-bottom: 0.5em;}#sk-container-id-7 div.sk-estimator:hover {background-color: #d4ebff;}#sk-container-id-7 div.sk-parallel-item::after {content: \"\";width: 100%;border-bottom: 1px solid gray;flex-grow: 1;}#sk-container-id-7 div.sk-label:hover label.sk-toggleable__label {background-color: #d4ebff;}#sk-container-id-7 div.sk-serial::before {content: \"\";position: absolute;border-left: 1px solid gray;box-sizing: border-box;top: 0;bottom: 0;left: 50%;z-index: 0;}#sk-container-id-7 div.sk-serial {display: flex;flex-direction: column;align-items: center;background-color: white;padding-right: 0.2em;padding-left: 0.2em;position: relative;}#sk-container-id-7 div.sk-item {position: relative;z-index: 1;}#sk-container-id-7 div.sk-parallel {display: flex;align-items: stretch;justify-content: center;background-color: white;position: relative;}#sk-container-id-7 div.sk-item::before, #sk-container-id-7 div.sk-parallel-item::before {content: \"\";position: absolute;border-left: 1px solid gray;box-sizing: border-box;top: 0;bottom: 0;left: 50%;z-index: -1;}#sk-container-id-7 div.sk-parallel-item {display: flex;flex-direction: column;z-index: 1;position: relative;background-color: white;}#sk-container-id-7 div.sk-parallel-item:first-child::after {align-self: flex-end;width: 50%;}#sk-container-id-7 div.sk-parallel-item:last-child::after {align-self: flex-start;width: 50%;}#sk-container-id-7 div.sk-parallel-item:only-child::after {width: 0;}#sk-container-id-7 div.sk-dashed-wrapped {border: 1px dashed gray;margin: 0 0.4em 0.5em 0.4em;box-sizing: border-box;padding-bottom: 0.4em;background-color: white;}#sk-container-id-7 div.sk-label label {font-family: monospace;font-weight: bold;display: inline-block;line-height: 1.2em;}#sk-container-id-7 div.sk-label-container {text-align: center;}#sk-container-id-7 div.sk-container {/* jupyter's `normalize.less` sets `[hidden] { display: none; }` but bootstrap.min.css set `[hidden] { display: none !important; }` so we also need the `!important` here to be able to override the default hidden behavior on the sphinx rendered scikit-learn.org. See: https://github.com/scikit-learn/scikit-learn/issues/21755 */display: inline-block !important;position: relative;}#sk-container-id-7 div.sk-text-repr-fallback {display: none;}</style><div id=\"sk-container-id-7\" class=\"sk-top-container\"><div class=\"sk-text-repr-fallback\"><pre>LogisticRegression(max_iter=1000)</pre><b>In a Jupyter environment, please rerun this cell to show the HTML representation or trust the notebook. <br />On GitHub, the HTML representation is unable to render, please try loading this page with nbviewer.org.</b></div><div class=\"sk-container\" hidden><div class=\"sk-item\"><div class=\"sk-estimator sk-toggleable\"><input class=\"sk-toggleable__control sk-hidden--visually\" id=\"sk-estimator-id-7\" type=\"checkbox\" checked><label for=\"sk-estimator-id-7\" class=\"sk-toggleable__label sk-toggleable__label-arrow\">LogisticRegression</label><div class=\"sk-toggleable__content\"><pre>LogisticRegression(max_iter=1000)</pre></div></div></div></div></div>"
      ],
      "text/plain": [
       "LogisticRegression(max_iter=1000)"
      ]
     },
     "execution_count": 85,
     "metadata": {},
     "output_type": "execute_result"
    }
   ],
   "source": [
    "model_lr = LogisticRegression(max_iter=1000)\n",
    "model_lr.fit(train_data_bow,train_data['Score'])"
   ]
  },
  {
   "cell_type": "code",
   "execution_count": 89,
   "metadata": {},
   "outputs": [
    {
     "name": "stdout",
     "output_type": "stream",
     "text": [
      "Accuracy acheived by Logistic Regression using Bag of Words = 93.35076578259246 %\n"
     ]
    }
   ],
   "source": [
    "y_pred = model_lr.predict(test_data_bow)\n",
    "score = accuracy_score(y_pred,test_data['Score'])*100\n",
    "print(\"Accuracy acheived by Logistic Regression using Bag of Words =\",score,\"%\")"
   ]
  },
  {
   "cell_type": "markdown",
   "metadata": {},
   "source": [
    "Logistic Regression on TF-IDF"
   ]
  },
  {
   "cell_type": "code",
   "execution_count": 93,
   "metadata": {},
   "outputs": [
    {
     "name": "stdout",
     "output_type": "stream",
     "text": [
      "(393516,)\n",
      "(131173,)\n",
      "(393516, 63423)\n",
      "(131173, 63423)\n"
     ]
    }
   ],
   "source": [
    "tfidf = tf_idf(train_data['Text'])\n",
    "train_data_tfidf = tfidf.transform(train_data['Text'])\n",
    "test_data_tfidf = tfidf.transform(test_data['Text'])\n",
    "print(train_data['Text'].shape)\n",
    "print(test_data['Text'].shape)\n",
    "print(train_data_tfidf.shape)\n",
    "print(test_data_tfidf.shape)"
   ]
  },
  {
   "cell_type": "code",
   "execution_count": 100,
   "metadata": {},
   "outputs": [],
   "source": [
    "train_data_tfidf_n = Normalizer().fit_transform(train_data_tfidf)\n",
    "test_data_tfidf_n = Normalizer().fit_transform(test_data_tfidf)"
   ]
  },
  {
   "cell_type": "code",
   "execution_count": 101,
   "metadata": {},
   "outputs": [
    {
     "data": {
      "text/html": [
       "<style>#sk-container-id-11 {color: black;}#sk-container-id-11 pre{padding: 0;}#sk-container-id-11 div.sk-toggleable {background-color: white;}#sk-container-id-11 label.sk-toggleable__label {cursor: pointer;display: block;width: 100%;margin-bottom: 0;padding: 0.3em;box-sizing: border-box;text-align: center;}#sk-container-id-11 label.sk-toggleable__label-arrow:before {content: \"▸\";float: left;margin-right: 0.25em;color: #696969;}#sk-container-id-11 label.sk-toggleable__label-arrow:hover:before {color: black;}#sk-container-id-11 div.sk-estimator:hover label.sk-toggleable__label-arrow:before {color: black;}#sk-container-id-11 div.sk-toggleable__content {max-height: 0;max-width: 0;overflow: hidden;text-align: left;background-color: #f0f8ff;}#sk-container-id-11 div.sk-toggleable__content pre {margin: 0.2em;color: black;border-radius: 0.25em;background-color: #f0f8ff;}#sk-container-id-11 input.sk-toggleable__control:checked~div.sk-toggleable__content {max-height: 200px;max-width: 100%;overflow: auto;}#sk-container-id-11 input.sk-toggleable__control:checked~label.sk-toggleable__label-arrow:before {content: \"▾\";}#sk-container-id-11 div.sk-estimator input.sk-toggleable__control:checked~label.sk-toggleable__label {background-color: #d4ebff;}#sk-container-id-11 div.sk-label input.sk-toggleable__control:checked~label.sk-toggleable__label {background-color: #d4ebff;}#sk-container-id-11 input.sk-hidden--visually {border: 0;clip: rect(1px 1px 1px 1px);clip: rect(1px, 1px, 1px, 1px);height: 1px;margin: -1px;overflow: hidden;padding: 0;position: absolute;width: 1px;}#sk-container-id-11 div.sk-estimator {font-family: monospace;background-color: #f0f8ff;border: 1px dotted black;border-radius: 0.25em;box-sizing: border-box;margin-bottom: 0.5em;}#sk-container-id-11 div.sk-estimator:hover {background-color: #d4ebff;}#sk-container-id-11 div.sk-parallel-item::after {content: \"\";width: 100%;border-bottom: 1px solid gray;flex-grow: 1;}#sk-container-id-11 div.sk-label:hover label.sk-toggleable__label {background-color: #d4ebff;}#sk-container-id-11 div.sk-serial::before {content: \"\";position: absolute;border-left: 1px solid gray;box-sizing: border-box;top: 0;bottom: 0;left: 50%;z-index: 0;}#sk-container-id-11 div.sk-serial {display: flex;flex-direction: column;align-items: center;background-color: white;padding-right: 0.2em;padding-left: 0.2em;position: relative;}#sk-container-id-11 div.sk-item {position: relative;z-index: 1;}#sk-container-id-11 div.sk-parallel {display: flex;align-items: stretch;justify-content: center;background-color: white;position: relative;}#sk-container-id-11 div.sk-item::before, #sk-container-id-11 div.sk-parallel-item::before {content: \"\";position: absolute;border-left: 1px solid gray;box-sizing: border-box;top: 0;bottom: 0;left: 50%;z-index: -1;}#sk-container-id-11 div.sk-parallel-item {display: flex;flex-direction: column;z-index: 1;position: relative;background-color: white;}#sk-container-id-11 div.sk-parallel-item:first-child::after {align-self: flex-end;width: 50%;}#sk-container-id-11 div.sk-parallel-item:last-child::after {align-self: flex-start;width: 50%;}#sk-container-id-11 div.sk-parallel-item:only-child::after {width: 0;}#sk-container-id-11 div.sk-dashed-wrapped {border: 1px dashed gray;margin: 0 0.4em 0.5em 0.4em;box-sizing: border-box;padding-bottom: 0.4em;background-color: white;}#sk-container-id-11 div.sk-label label {font-family: monospace;font-weight: bold;display: inline-block;line-height: 1.2em;}#sk-container-id-11 div.sk-label-container {text-align: center;}#sk-container-id-11 div.sk-container {/* jupyter's `normalize.less` sets `[hidden] { display: none; }` but bootstrap.min.css set `[hidden] { display: none !important; }` so we also need the `!important` here to be able to override the default hidden behavior on the sphinx rendered scikit-learn.org. See: https://github.com/scikit-learn/scikit-learn/issues/21755 */display: inline-block !important;position: relative;}#sk-container-id-11 div.sk-text-repr-fallback {display: none;}</style><div id=\"sk-container-id-11\" class=\"sk-top-container\"><div class=\"sk-text-repr-fallback\"><pre>LogisticRegression(max_iter=1000)</pre><b>In a Jupyter environment, please rerun this cell to show the HTML representation or trust the notebook. <br />On GitHub, the HTML representation is unable to render, please try loading this page with nbviewer.org.</b></div><div class=\"sk-container\" hidden><div class=\"sk-item\"><div class=\"sk-estimator sk-toggleable\"><input class=\"sk-toggleable__control sk-hidden--visually\" id=\"sk-estimator-id-11\" type=\"checkbox\" checked><label for=\"sk-estimator-id-11\" class=\"sk-toggleable__label sk-toggleable__label-arrow\">LogisticRegression</label><div class=\"sk-toggleable__content\"><pre>LogisticRegression(max_iter=1000)</pre></div></div></div></div></div>"
      ],
      "text/plain": [
       "LogisticRegression(max_iter=1000)"
      ]
     },
     "execution_count": 101,
     "metadata": {},
     "output_type": "execute_result"
    }
   ],
   "source": [
    "model_lr_tfidf = LogisticRegression(max_iter=1000)\n",
    "model_lr_tfidf.fit(train_data_tfidf_n,train_data['Score'])"
   ]
  },
  {
   "cell_type": "code",
   "execution_count": 102,
   "metadata": {},
   "outputs": [
    {
     "name": "stdout",
     "output_type": "stream",
     "text": [
      "Accuracy acheived by Logistic Regression using TFIDF = 92.99169798662834 %\n"
     ]
    }
   ],
   "source": [
    "y_pred = model_lr_tfidf.predict(test_data_tfidf_n)\n",
    "score = accuracy_score(y_pred,test_data['Score'])*100\n",
    "print(\"Accuracy acheived by Logistic Regression using TFIDF =\",score,\"%\")"
   ]
  },
  {
   "cell_type": "markdown",
   "metadata": {},
   "source": [
    "Logistic Regression on Word2vec"
   ]
  },
  {
   "cell_type": "markdown",
   "metadata": {},
   "source": [
    "A. Average word2vec"
   ]
  },
  {
   "cell_type": "code",
   "execution_count": 105,
   "metadata": {},
   "outputs": [],
   "source": [
    "def avg_w2v(data):\n",
    "    avg_list = []\n",
    "    for i in tqdm(data):\n",
    "        vec = np.zeros(150)\n",
    "        count = 0\n",
    "        for j in i.split(' '):\n",
    "            try:\n",
    "                vec+= model.wv[j]\n",
    "                count+=1\n",
    "            except: \n",
    "                pass\n",
    "        if count!=0:\n",
    "            vec = vec/count\n",
    "            avg_list.append(vec)\n",
    "        else:\n",
    "            avg_list.append(np.zeros(150))\n",
    "\n",
    "    print(\"Total number of the vector : \",len(avg_list))  #Length of the list\n",
    "    print(\"Dimension of Vector : \",len(avg_list[1])) # Length of average vector\n",
    "    return np.array(avg_list)   "
   ]
  },
  {
   "cell_type": "code",
   "execution_count": 137,
   "metadata": {},
   "outputs": [],
   "source": [
    "def avg_w2v(data,model):\n",
    "    avg_list = []\n",
    "    for i in tqdm(data):\n",
    "        vec = np.zeros(150)\n",
    "        count = 0\n",
    "        for j in i.split(' '):\n",
    "            try:\n",
    "                vec+= model[j]\n",
    "                count+=1\n",
    "            except: \n",
    "                pass\n",
    "        if count!=0:\n",
    "            vec = vec/count\n",
    "            avg_list.append(vec)\n",
    "        else:\n",
    "            avg_list.append(np.zeros(150))\n",
    "\n",
    "    print(\"Total number of the vector : \",len(avg_list))  #Length of the list\n",
    "    print(\"Dimension of Vector : \",len(avg_list[1])) # Length of average vector\n",
    "    return np.array(avg_list)  "
   ]
  },
  {
   "cell_type": "code",
   "execution_count": 106,
   "metadata": {},
   "outputs": [
    {
     "name": "stderr",
     "output_type": "stream",
     "text": [
      "100%|██████████| 393516/393516 [00:56<00:00, 6989.52it/s] \n"
     ]
    },
    {
     "name": "stdout",
     "output_type": "stream",
     "text": [
      "Total number of the vector :  393516\n",
      "Dimension of Vector :  150\n"
     ]
    },
    {
     "name": "stderr",
     "output_type": "stream",
     "text": [
      "100%|██████████| 131173/131173 [00:14<00:00, 9117.29it/s]\n"
     ]
    },
    {
     "name": "stdout",
     "output_type": "stream",
     "text": [
      "Total number of the vector :  131173\n",
      "Dimension of Vector :  150\n"
     ]
    }
   ],
   "source": [
    "# train_data_w2v = avg_w2v(train_data['Text'])\n",
    "# test_data_w2v = avg_w2v(test_data['Text'])\n",
    "\n",
    "# train_data_w2v_n = Normalizer().fit_transform(train_data_w2v)\n",
    "# test_data_w2v_n = Normalizer().fit_transform(test_data_w2v)"
   ]
  },
  {
   "cell_type": "code",
   "execution_count": 138,
   "metadata": {},
   "outputs": [
    {
     "name": "stderr",
     "output_type": "stream",
     "text": [
      "100%|██████████| 393516/393516 [00:46<00:00, 8377.18it/s]\n"
     ]
    },
    {
     "name": "stdout",
     "output_type": "stream",
     "text": [
      "Total number of the vector :  393516\n",
      "Dimension of Vector :  150\n"
     ]
    },
    {
     "name": "stderr",
     "output_type": "stream",
     "text": [
      "100%|██████████| 131173/131173 [00:13<00:00, 9708.52it/s] \n"
     ]
    },
    {
     "name": "stdout",
     "output_type": "stream",
     "text": [
      "Total number of the vector :  131173\n",
      "Dimension of Vector :  150\n"
     ]
    }
   ],
   "source": [
    "train_data_w2v = avg_w2v(train_data['Text'],model.wv)\n",
    "test_data_w2v = avg_w2v(test_data['Text'],model.wv)\n",
    "\n",
    "train_data_w2v_n = Normalizer().fit_transform(train_data_w2v)\n",
    "test_data_w2v_n = Normalizer().fit_transform(test_data_w2v)"
   ]
  },
  {
   "cell_type": "code",
   "execution_count": 146,
   "metadata": {},
   "outputs": [
    {
     "data": {
      "text/html": [
       "<style>#sk-container-id-16 {color: black;}#sk-container-id-16 pre{padding: 0;}#sk-container-id-16 div.sk-toggleable {background-color: white;}#sk-container-id-16 label.sk-toggleable__label {cursor: pointer;display: block;width: 100%;margin-bottom: 0;padding: 0.3em;box-sizing: border-box;text-align: center;}#sk-container-id-16 label.sk-toggleable__label-arrow:before {content: \"▸\";float: left;margin-right: 0.25em;color: #696969;}#sk-container-id-16 label.sk-toggleable__label-arrow:hover:before {color: black;}#sk-container-id-16 div.sk-estimator:hover label.sk-toggleable__label-arrow:before {color: black;}#sk-container-id-16 div.sk-toggleable__content {max-height: 0;max-width: 0;overflow: hidden;text-align: left;background-color: #f0f8ff;}#sk-container-id-16 div.sk-toggleable__content pre {margin: 0.2em;color: black;border-radius: 0.25em;background-color: #f0f8ff;}#sk-container-id-16 input.sk-toggleable__control:checked~div.sk-toggleable__content {max-height: 200px;max-width: 100%;overflow: auto;}#sk-container-id-16 input.sk-toggleable__control:checked~label.sk-toggleable__label-arrow:before {content: \"▾\";}#sk-container-id-16 div.sk-estimator input.sk-toggleable__control:checked~label.sk-toggleable__label {background-color: #d4ebff;}#sk-container-id-16 div.sk-label input.sk-toggleable__control:checked~label.sk-toggleable__label {background-color: #d4ebff;}#sk-container-id-16 input.sk-hidden--visually {border: 0;clip: rect(1px 1px 1px 1px);clip: rect(1px, 1px, 1px, 1px);height: 1px;margin: -1px;overflow: hidden;padding: 0;position: absolute;width: 1px;}#sk-container-id-16 div.sk-estimator {font-family: monospace;background-color: #f0f8ff;border: 1px dotted black;border-radius: 0.25em;box-sizing: border-box;margin-bottom: 0.5em;}#sk-container-id-16 div.sk-estimator:hover {background-color: #d4ebff;}#sk-container-id-16 div.sk-parallel-item::after {content: \"\";width: 100%;border-bottom: 1px solid gray;flex-grow: 1;}#sk-container-id-16 div.sk-label:hover label.sk-toggleable__label {background-color: #d4ebff;}#sk-container-id-16 div.sk-serial::before {content: \"\";position: absolute;border-left: 1px solid gray;box-sizing: border-box;top: 0;bottom: 0;left: 50%;z-index: 0;}#sk-container-id-16 div.sk-serial {display: flex;flex-direction: column;align-items: center;background-color: white;padding-right: 0.2em;padding-left: 0.2em;position: relative;}#sk-container-id-16 div.sk-item {position: relative;z-index: 1;}#sk-container-id-16 div.sk-parallel {display: flex;align-items: stretch;justify-content: center;background-color: white;position: relative;}#sk-container-id-16 div.sk-item::before, #sk-container-id-16 div.sk-parallel-item::before {content: \"\";position: absolute;border-left: 1px solid gray;box-sizing: border-box;top: 0;bottom: 0;left: 50%;z-index: -1;}#sk-container-id-16 div.sk-parallel-item {display: flex;flex-direction: column;z-index: 1;position: relative;background-color: white;}#sk-container-id-16 div.sk-parallel-item:first-child::after {align-self: flex-end;width: 50%;}#sk-container-id-16 div.sk-parallel-item:last-child::after {align-self: flex-start;width: 50%;}#sk-container-id-16 div.sk-parallel-item:only-child::after {width: 0;}#sk-container-id-16 div.sk-dashed-wrapped {border: 1px dashed gray;margin: 0 0.4em 0.5em 0.4em;box-sizing: border-box;padding-bottom: 0.4em;background-color: white;}#sk-container-id-16 div.sk-label label {font-family: monospace;font-weight: bold;display: inline-block;line-height: 1.2em;}#sk-container-id-16 div.sk-label-container {text-align: center;}#sk-container-id-16 div.sk-container {/* jupyter's `normalize.less` sets `[hidden] { display: none; }` but bootstrap.min.css set `[hidden] { display: none !important; }` so we also need the `!important` here to be able to override the default hidden behavior on the sphinx rendered scikit-learn.org. See: https://github.com/scikit-learn/scikit-learn/issues/21755 */display: inline-block !important;position: relative;}#sk-container-id-16 div.sk-text-repr-fallback {display: none;}</style><div id=\"sk-container-id-16\" class=\"sk-top-container\"><div class=\"sk-text-repr-fallback\"><pre>LogisticRegression(max_iter=400)</pre><b>In a Jupyter environment, please rerun this cell to show the HTML representation or trust the notebook. <br />On GitHub, the HTML representation is unable to render, please try loading this page with nbviewer.org.</b></div><div class=\"sk-container\" hidden><div class=\"sk-item\"><div class=\"sk-estimator sk-toggleable\"><input class=\"sk-toggleable__control sk-hidden--visually\" id=\"sk-estimator-id-16\" type=\"checkbox\" checked><label for=\"sk-estimator-id-16\" class=\"sk-toggleable__label sk-toggleable__label-arrow\">LogisticRegression</label><div class=\"sk-toggleable__content\"><pre>LogisticRegression(max_iter=400)</pre></div></div></div></div></div>"
      ],
      "text/plain": [
       "LogisticRegression(max_iter=400)"
      ]
     },
     "execution_count": 146,
     "metadata": {},
     "output_type": "execute_result"
    }
   ],
   "source": [
    "model_lr_w2v = LogisticRegression(max_iter=400)\n",
    "model_lr_w2v.fit(train_data_w2v_n,train_data['Score'])\n"
   ]
  },
  {
   "cell_type": "code",
   "execution_count": 145,
   "metadata": {},
   "outputs": [
    {
     "name": "stdout",
     "output_type": "stream",
     "text": [
      "Accuracy acheived by Logistic Regression using avg w2v = 89.66784322993298 %\n"
     ]
    }
   ],
   "source": [
    "y_pred = model_lr_w2v.predict(test_data_w2v)\n",
    "score = accuracy_score(y_pred,test_data['Score'])*100\n",
    "print(\"Accuracy acheived by Logistic Regression using avg w2v =\",score,\"%\")\n"
   ]
  },
  {
   "cell_type": "markdown",
   "metadata": {},
   "source": [
    "Using google dataset for word2vec"
   ]
  },
  {
   "cell_type": "code",
   "execution_count": 114,
   "metadata": {},
   "outputs": [
    {
     "name": "stdout",
     "output_type": "stream",
     "text": [
      "['fasttext-wiki-news-subwords-300', 'conceptnet-numberbatch-17-06-300', 'word2vec-ruscorpora-300', 'word2vec-google-news-300', 'glove-wiki-gigaword-50', 'glove-wiki-gigaword-100', 'glove-wiki-gigaword-200', 'glove-wiki-gigaword-300', 'glove-twitter-25', 'glove-twitter-50', 'glove-twitter-100', 'glove-twitter-200', '__testing_word2vec-matrix-synopsis']\n"
     ]
    }
   ],
   "source": [
    "import gensim\n",
    "import gensim.downloader as api\n",
    "print(list(gensim.downloader.info()['models'].keys()))"
   ]
  },
  {
   "cell_type": "code",
   "execution_count": 116,
   "metadata": {},
   "outputs": [
    {
     "name": "stdout",
     "output_type": "stream",
     "text": [
      "[==================================================] 100.0% 1662.8/1662.8MB downloaded\n"
     ]
    }
   ],
   "source": [
    "# wv = api.load('word2vec-google-news-300')\n",
    "# wv.save('../Google news dataset/vectors.kv')"
   ]
  },
  {
   "cell_type": "code",
   "execution_count": 134,
   "metadata": {},
   "outputs": [
    {
     "data": {
      "text/plain": [
       "0.24171118"
      ]
     },
     "execution_count": 134,
     "metadata": {},
     "output_type": "execute_result"
    }
   ],
   "source": [
    "wv.similarity('good','sexy')\n"
   ]
  },
  {
   "cell_type": "code",
   "execution_count": 136,
   "metadata": {},
   "outputs": [
    {
     "data": {
      "text/plain": [
       "array([-0.17382812,  0.02404785, -0.03015137,  0.27734375, -0.09228516,\n",
       "        0.0144043 ,  0.11376953,  0.12597656, -0.19433594,  0.30859375,\n",
       "       -0.18652344, -0.17578125,  0.14941406, -0.02819824, -0.06982422,\n",
       "        0.30273438,  0.01989746, -0.05224609,  0.01361084,  0.06542969,\n",
       "        0.06689453,  0.17480469,  0.22070312,  0.13964844, -0.04833984,\n",
       "       -0.30859375, -0.14746094,  0.18066406,  0.02746582, -0.00228882,\n",
       "       -0.05859375,  0.07763672,  0.33789062,  0.07568359, -0.25      ,\n",
       "       -0.01806641,  0.21972656, -0.16796875,  0.11621094,  0.20703125,\n",
       "        0.15625   , -0.23828125,  0.08544922,  0.10986328,  0.00170135,\n",
       "       -0.33203125, -0.05834961,  0.43359375,  0.05810547,  0.16210938,\n",
       "       -0.09277344,  0.13378906,  0.02404785,  0.04321289, -0.13378906,\n",
       "        0.05664062,  0.20605469, -0.24707031, -0.06054688, -0.15820312,\n",
       "       -0.15820312,  0.06884766, -0.23535156, -0.00361633, -0.02941895,\n",
       "       -0.26171875, -0.10009766, -0.42578125,  0.00531006,  0.05834961,\n",
       "        0.29882812, -0.03063965,  0.11767578,  0.0055542 , -0.05981445,\n",
       "       -0.10400391, -0.44726562,  0.10498047,  0.00247192, -0.06347656,\n",
       "       -0.07177734, -0.16699219,  0.00933838,  0.06347656,  0.02355957,\n",
       "       -0.17675781, -0.23242188,  0.23535156, -0.10546875, -0.04443359,\n",
       "       -0.16699219, -0.25      , -0.08837891,  0.05297852, -0.15332031,\n",
       "       -0.06494141, -0.00415039,  0.09912109, -0.02697754, -0.19238281,\n",
       "       -0.09472656,  0.25      ,  0.19433594,  0.12695312,  0.01879883,\n",
       "       -0.1640625 ,  0.28710938,  0.02099609,  0.04516602, -0.2578125 ,\n",
       "       -0.11230469,  0.13574219, -0.05419922, -0.09667969,  0.05688477,\n",
       "       -0.16796875,  0.3046875 , -0.01361084, -0.2265625 , -0.12304688,\n",
       "        0.00358582, -0.20605469,  0.01977539, -0.28125   , -0.08886719,\n",
       "        0.34765625, -0.29296875, -0.01556396, -0.06933594,  0.00704956,\n",
       "       -0.328125  ,  0.21777344,  0.05493164,  0.2734375 , -0.19824219,\n",
       "        0.44921875,  0.2421875 , -0.09716797,  0.23730469,  0.328125  ,\n",
       "        0.02392578,  0.140625  , -0.06738281, -0.09960938, -0.24316406,\n",
       "       -0.11523438, -0.10986328, -0.05200195, -0.14746094, -0.00817871,\n",
       "       -0.07080078,  0.00750732, -0.20800781,  0.16113281, -0.05151367,\n",
       "       -0.25585938,  0.06054688, -0.12988281, -0.64453125, -0.16894531,\n",
       "       -0.09130859,  0.21777344,  0.16113281,  0.11083984,  0.15820312,\n",
       "       -0.29296875, -0.05712891, -0.00372314, -0.16015625, -0.19824219,\n",
       "       -0.37890625,  0.17578125, -0.05395508,  0.08642578, -0.0859375 ,\n",
       "        0.06542969, -0.13476562,  0.15234375, -0.04370117,  0.08935547,\n",
       "       -0.00120544, -0.41601562,  0.01239014, -0.16601562, -0.05102539,\n",
       "       -0.078125  , -0.05981445, -0.02062988, -0.10644531, -0.11328125,\n",
       "       -0.27929688,  0.16015625,  0.06542969, -0.33398438, -0.12109375,\n",
       "        0.32226562, -0.11132812, -0.14453125, -0.11035156, -0.00408936,\n",
       "        0.02380371,  0.12011719, -0.04248047,  0.15527344, -0.05786133,\n",
       "       -0.05688477, -0.14746094, -0.03637695, -0.1640625 , -0.0234375 ,\n",
       "       -0.3515625 ,  0.21191406, -0.28125   ,  0.33007812,  0.02270508,\n",
       "        0.12792969,  0.13574219, -0.18847656,  0.07958984,  0.19042969,\n",
       "        0.09033203,  0.20898438, -0.0703125 ,  0.12304688,  0.10400391,\n",
       "        0.10253906, -0.01062012, -0.16015625,  0.05078125,  0.13476562,\n",
       "       -0.08837891, -0.02734375,  0.07666016,  0.12890625,  0.33203125,\n",
       "       -0.22851562, -0.08105469,  0.01342773, -0.15429688,  0.00099945,\n",
       "        0.29296875, -0.03442383, -0.02941895, -0.11621094,  0.04541016,\n",
       "        0.07177734,  0.1640625 ,  0.10839844, -0.05102539, -0.04248047,\n",
       "       -0.07470703,  0.10107422,  0.32617188,  0.04736328,  0.20117188,\n",
       "       -0.265625  , -0.15332031, -0.18457031, -0.10205078, -0.07763672,\n",
       "        0.12792969,  0.12792969, -0.15429688,  0.00363159, -0.02404785,\n",
       "       -0.11767578, -0.24121094, -0.13671875, -0.11376953, -0.16992188,\n",
       "        0.20117188,  0.09912109,  0.1328125 ,  0.10693359,  0.25195312,\n",
       "        0.06201172,  0.19238281, -0.08447266, -0.1328125 ,  0.11132812,\n",
       "       -0.04418945,  0.09667969, -0.2734375 ,  0.06176758, -0.05200195,\n",
       "        0.07519531,  0.01538086,  0.125     , -0.18457031,  0.28125   ,\n",
       "        0.1171875 , -0.203125  , -0.02709961,  0.23730469,  0.12597656,\n",
       "       -0.03295898,  0.00946045, -0.25195312,  0.15332031,  0.08789062],\n",
       "      dtype=float32)"
      ]
     },
     "execution_count": 136,
     "metadata": {},
     "output_type": "execute_result"
    }
   ],
   "source": [
    "wv['tasty']"
   ]
  },
  {
   "cell_type": "code",
   "execution_count": 156,
   "metadata": {},
   "outputs": [
    {
     "name": "stderr",
     "output_type": "stream",
     "text": [
      "100%|██████████| 393516/393516 [01:21<00:00, 4825.71it/s]\n"
     ]
    },
    {
     "name": "stdout",
     "output_type": "stream",
     "text": [
      "Total number of the vector :  393516\n",
      "Dimension of Vector :  150\n"
     ]
    },
    {
     "name": "stderr",
     "output_type": "stream",
     "text": [
      "100%|██████████| 131173/131173 [00:24<00:00, 5430.77it/s]\n"
     ]
    },
    {
     "name": "stdout",
     "output_type": "stream",
     "text": [
      "Total number of the vector :  131173\n",
      "Dimension of Vector :  150\n"
     ]
    }
   ],
   "source": [
    "train_data_w2v1 = avg_w2v(train_data['Text'],wv)\n",
    "test_data_w2v1 = avg_w2v(test_data['Text'],wv)\n",
    "\n",
    "train_data_w2v_n = Normalizer().fit_transform(train_data_w2v1)\n",
    "test_data_w2v_n = Normalizer().fit_transform(test_data_w2v1)"
   ]
  },
  {
   "cell_type": "code",
   "execution_count": 157,
   "metadata": {},
   "outputs": [
    {
     "data": {
      "text/html": [
       "<style>#sk-container-id-19 {color: black;}#sk-container-id-19 pre{padding: 0;}#sk-container-id-19 div.sk-toggleable {background-color: white;}#sk-container-id-19 label.sk-toggleable__label {cursor: pointer;display: block;width: 100%;margin-bottom: 0;padding: 0.3em;box-sizing: border-box;text-align: center;}#sk-container-id-19 label.sk-toggleable__label-arrow:before {content: \"▸\";float: left;margin-right: 0.25em;color: #696969;}#sk-container-id-19 label.sk-toggleable__label-arrow:hover:before {color: black;}#sk-container-id-19 div.sk-estimator:hover label.sk-toggleable__label-arrow:before {color: black;}#sk-container-id-19 div.sk-toggleable__content {max-height: 0;max-width: 0;overflow: hidden;text-align: left;background-color: #f0f8ff;}#sk-container-id-19 div.sk-toggleable__content pre {margin: 0.2em;color: black;border-radius: 0.25em;background-color: #f0f8ff;}#sk-container-id-19 input.sk-toggleable__control:checked~div.sk-toggleable__content {max-height: 200px;max-width: 100%;overflow: auto;}#sk-container-id-19 input.sk-toggleable__control:checked~label.sk-toggleable__label-arrow:before {content: \"▾\";}#sk-container-id-19 div.sk-estimator input.sk-toggleable__control:checked~label.sk-toggleable__label {background-color: #d4ebff;}#sk-container-id-19 div.sk-label input.sk-toggleable__control:checked~label.sk-toggleable__label {background-color: #d4ebff;}#sk-container-id-19 input.sk-hidden--visually {border: 0;clip: rect(1px 1px 1px 1px);clip: rect(1px, 1px, 1px, 1px);height: 1px;margin: -1px;overflow: hidden;padding: 0;position: absolute;width: 1px;}#sk-container-id-19 div.sk-estimator {font-family: monospace;background-color: #f0f8ff;border: 1px dotted black;border-radius: 0.25em;box-sizing: border-box;margin-bottom: 0.5em;}#sk-container-id-19 div.sk-estimator:hover {background-color: #d4ebff;}#sk-container-id-19 div.sk-parallel-item::after {content: \"\";width: 100%;border-bottom: 1px solid gray;flex-grow: 1;}#sk-container-id-19 div.sk-label:hover label.sk-toggleable__label {background-color: #d4ebff;}#sk-container-id-19 div.sk-serial::before {content: \"\";position: absolute;border-left: 1px solid gray;box-sizing: border-box;top: 0;bottom: 0;left: 50%;z-index: 0;}#sk-container-id-19 div.sk-serial {display: flex;flex-direction: column;align-items: center;background-color: white;padding-right: 0.2em;padding-left: 0.2em;position: relative;}#sk-container-id-19 div.sk-item {position: relative;z-index: 1;}#sk-container-id-19 div.sk-parallel {display: flex;align-items: stretch;justify-content: center;background-color: white;position: relative;}#sk-container-id-19 div.sk-item::before, #sk-container-id-19 div.sk-parallel-item::before {content: \"\";position: absolute;border-left: 1px solid gray;box-sizing: border-box;top: 0;bottom: 0;left: 50%;z-index: -1;}#sk-container-id-19 div.sk-parallel-item {display: flex;flex-direction: column;z-index: 1;position: relative;background-color: white;}#sk-container-id-19 div.sk-parallel-item:first-child::after {align-self: flex-end;width: 50%;}#sk-container-id-19 div.sk-parallel-item:last-child::after {align-self: flex-start;width: 50%;}#sk-container-id-19 div.sk-parallel-item:only-child::after {width: 0;}#sk-container-id-19 div.sk-dashed-wrapped {border: 1px dashed gray;margin: 0 0.4em 0.5em 0.4em;box-sizing: border-box;padding-bottom: 0.4em;background-color: white;}#sk-container-id-19 div.sk-label label {font-family: monospace;font-weight: bold;display: inline-block;line-height: 1.2em;}#sk-container-id-19 div.sk-label-container {text-align: center;}#sk-container-id-19 div.sk-container {/* jupyter's `normalize.less` sets `[hidden] { display: none; }` but bootstrap.min.css set `[hidden] { display: none !important; }` so we also need the `!important` here to be able to override the default hidden behavior on the sphinx rendered scikit-learn.org. See: https://github.com/scikit-learn/scikit-learn/issues/21755 */display: inline-block !important;position: relative;}#sk-container-id-19 div.sk-text-repr-fallback {display: none;}</style><div id=\"sk-container-id-19\" class=\"sk-top-container\"><div class=\"sk-text-repr-fallback\"><pre>LogisticRegression(max_iter=400)</pre><b>In a Jupyter environment, please rerun this cell to show the HTML representation or trust the notebook. <br />On GitHub, the HTML representation is unable to render, please try loading this page with nbviewer.org.</b></div><div class=\"sk-container\" hidden><div class=\"sk-item\"><div class=\"sk-estimator sk-toggleable\"><input class=\"sk-toggleable__control sk-hidden--visually\" id=\"sk-estimator-id-19\" type=\"checkbox\" checked><label for=\"sk-estimator-id-19\" class=\"sk-toggleable__label sk-toggleable__label-arrow\">LogisticRegression</label><div class=\"sk-toggleable__content\"><pre>LogisticRegression(max_iter=400)</pre></div></div></div></div></div>"
      ],
      "text/plain": [
       "LogisticRegression(max_iter=400)"
      ]
     },
     "execution_count": 157,
     "metadata": {},
     "output_type": "execute_result"
    }
   ],
   "source": [
    "model_lr_w2v = LogisticRegression(max_iter=400)\n",
    "model_lr_w2v.fit(train_data_w2v_n,train_data['Score'])"
   ]
  },
  {
   "cell_type": "code",
   "execution_count": 158,
   "metadata": {},
   "outputs": [
    {
     "name": "stdout",
     "output_type": "stream",
     "text": [
      "Accuracy acheived by Logistic Regression using avg w2v trained on google dataset = 84.44268256424722 %\n"
     ]
    }
   ],
   "source": [
    "y_pred = model_lr_w2v.predict(test_data_w2v)\n",
    "score = accuracy_score(y_pred,test_data['Score'])*100\n",
    "print(\"Accuracy acheived by Logistic Regression using avg w2v trained on google dataset =\",score,\"%\")"
   ]
  },
  {
   "cell_type": "code",
   "execution_count": null,
   "metadata": {},
   "outputs": [],
   "source": []
  }
 ],
 "metadata": {
  "kernelspec": {
   "display_name": "Python 3",
   "language": "python",
   "name": "python3"
  },
  "language_info": {
   "codemirror_mode": {
    "name": "ipython",
    "version": 3
   },
   "file_extension": ".py",
   "mimetype": "text/x-python",
   "name": "python",
   "nbconvert_exporter": "python",
   "pygments_lexer": "ipython3",
   "version": "3.10.10"
  }
 },
 "nbformat": 4,
 "nbformat_minor": 2
}
